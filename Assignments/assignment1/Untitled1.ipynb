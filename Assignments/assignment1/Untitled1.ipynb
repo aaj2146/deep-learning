{
 "cells": [
  {
   "cell_type": "code",
   "execution_count": 20,
   "metadata": {},
   "outputs": [
    {
     "name": "stdout",
     "output_type": "stream",
     "text": [
      "[ 23.8397550+0.j          -2.9198775+3.41945083j  -2.9198775-3.41945083j] \n",
      " [[ 0.33587680+0.j          0.76985789+0.j          0.76985789-0.j        ]\n",
      " [ 0.61439170+0.j         -0.26029357+0.40882556j -0.26029357-0.40882556j]\n",
      " [ 0.71393950+0.j         -0.22503551-0.34897961j -0.22503551+0.34897961j]]\n"
     ]
    }
   ],
   "source": [
    "import numpy as np\n",
    "a = np.array([[1,9,3], [5,6,13], [9,10,11]])\n",
    "w,v = np.linalg.eig(a)\n",
    "print(w, '\\n', v)"
   ]
  },
  {
   "cell_type": "code",
   "execution_count": 39,
   "metadata": {},
   "outputs": [
    {
     "name": "stdout",
     "output_type": "stream",
     "text": [
      "[ 1.63753366  0.44205163 -0.38837802] \n",
      " [[-0.38325935 -0.45392524  0.63634845]\n",
      " [-0.29962773 -0.09836743 -0.75243352]\n",
      " [-0.87369073  0.88559343  0.17001305]]\n"
     ]
    }
   ],
   "source": [
    "import numpy as np\n",
    "import numpy.linalg as linalg\n",
    "\n",
    "A = np.random.random((3,3))\n",
    "eigenValues, eigenVectors = linalg.eig(A)\n",
    "\n",
    "idx = eigenValues.argsort()[::-1]   \n",
    "eigenValues = eigenValues[idx]\n",
    "eigenVectors = eigenVectors[:,idx]\n",
    "#eigenValues=eigenValues[0:2]\n",
    "#eigenVectors=eigenVectors[:,0:2]\n",
    "#eigenVectors = np.reshape(eigenVectors, (K,D))\n",
    "print(eigenValues, '\\n', eigenVectors)\n",
    "\n",
    "list_feature = []\n",
    "for i in np.arange(3):\n",
    "    X_features = []\n",
    "    X_pca = X_all[:,:,:,i]\n",
    "    for n in range(len(X_all)):\n",
    "        img = X_pca[n]\n",
    "        feature = np.dot(list_eigen_vectors[i], np.reshape(img, (-1,)))\n",
    "        X_features.append(feature)\n",
    "    list_feature.append(X_features)\n",
    "    \n",
    "X_all_reduced = np.concatenate(list_feature,axis=1)\n",
    "\n",
    "X_train_reduced = X_all_reduced[:49000]\n",
    "X_test_reduced = X_all_reduced[49000:59000]\n",
    "X_val_reduced = X_all_reduced[59000:]"
   ]
  },
  {
   "cell_type": "code",
   "execution_count": 43,
   "metadata": {},
   "outputs": [
    {
     "name": "stdout",
     "output_type": "stream",
     "text": [
      "[[ 1  9  3  6  1  9  3  6  1  9  3  6]\n",
      " [ 5  6 13 78  5  6 13 78  5  6 13 78]\n",
      " [ 9 10 11 69  9 10 11 69  9 10 11 69]]\n"
     ]
    }
   ],
   "source": [
    "a = np.array([[1,9,3,6], [5,6,13,78], [9,10,11,69]])\n",
    "b = np.array([[1,9,3,6], [5,6,13,78], [9,10,11,69]])\n",
    "c = np.array([[1,9,3,6], [5,6,13,78], [9,10,11,69]])\n",
    "X_all = np.concatenate([a,b,c],axis=1)\n",
    "print(X_all)\n"
   ]
  },
  {
   "cell_type": "code",
   "execution_count": 44,
   "metadata": {},
   "outputs": [
    {
     "data": {
      "text/plain": [
       "array([1, 9, 3, 6])"
      ]
     },
     "execution_count": 44,
     "metadata": {},
     "output_type": "execute_result"
    }
   ],
   "source": [
    "img = np.array([1,9,3,6]) \n",
    "np.reshape(img, (-1,))"
   ]
  }
 ],
 "metadata": {
  "kernelspec": {
   "display_name": "Python [conda env:dlcourse]",
   "language": "python",
   "name": "conda-env-dlcourse-py"
  },
  "language_info": {
   "codemirror_mode": {
    "name": "ipython",
    "version": 3
   },
   "file_extension": ".py",
   "mimetype": "text/x-python",
   "name": "python",
   "nbconvert_exporter": "python",
   "pygments_lexer": "ipython3",
   "version": "3.5.4"
  }
 },
 "nbformat": 4,
 "nbformat_minor": 2
}
