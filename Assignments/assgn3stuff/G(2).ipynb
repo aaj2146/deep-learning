{
 "cells": [
  {
   "cell_type": "markdown",
   "metadata": {},
   "source": [
    "# Task 2: RNN application -- Tweet Sentiment Analysis"
   ]
  },
  {
   "cell_type": "code",
   "execution_count": 1,
   "metadata": {},
   "outputs": [],
   "source": [
    "# Import modules\n",
    "from __future__ import print_function\n",
    "import tensorflow as tf\n",
    "import numpy as np\n",
    "import json\n",
    "import time\n",
    "import matplotlib.pyplot as plt\n",
    "import pickle\n",
    "\n",
    "# Plot configurations\n",
    "% matplotlib inline\n",
    "# Notebook auto reloads code. (Ref: http://stackoverflow.com/questions/1907993/autoreload-of-modules-in-ipython)\n",
    "% load_ext autoreload\n",
    "% autoreload 2"
   ]
  },
  {
   "cell_type": "markdown",
   "metadata": {},
   "source": [
    "### Load data"
   ]
  },
  {
   "cell_type": "code",
   "execution_count": 2,
   "metadata": {},
   "outputs": [
    {
     "name": "stdout",
     "output_type": "stream",
     "text": [
      "size of original train set: 60000\n",
      "size of original test set: 20000\n",
      "****************************************************************************************************\n",
      "size of train set: 60000, #positive: 30055, #negative: 29945\n",
      "size of test set: 1000, #positive: 510, #negative: 490\n",
      "['it', 'will', 'help', 'relieve', 'your', 'stress', 'padtoken', 'padtoken', 'padtoken', 'padtoken', 'padtoken', 'padtoken', 'padtoken', 'padtoken', 'padtoken', 'padtoken', 'padtoken', 'padtoken', 'padtoken', 'padtoken']\n",
      "sentiment: positive\n"
     ]
    }
   ],
   "source": [
    "with open(\"./tweets_data/vocabulary.pkl\", \"rb\") as f:\n",
    "    vocabulary = pickle.load(f)\n",
    "\n",
    "# load our data and separate it into tweets and labels\n",
    "train_data = json.load(open('tweets_data/trainTweets_preprocessed.json', 'r'))\n",
    "train_data = list(map(lambda row:(np.array(row[0],dtype=np.int32),str(row[1])),train_data))\n",
    "train_tweets = np.array([t[0] for t in train_data])\n",
    "train_labels = np.array([int(t[1]) for t in train_data])\n",
    "\n",
    "test_data = json.load(open('tweets_data/testTweets_preprocessed.json', 'r'))\n",
    "test_data = list(map(lambda row:(np.array(row[0],dtype=np.int32),str(row[1])),test_data))\n",
    "test_tweets = np.array([t[0] for t in test_data])\n",
    "test_labels = np.array([int(t[1]) for t in test_data])\n",
    "\n",
    "print(\"size of original train set: {}\".format(len(train_tweets)))\n",
    "print(\"size of original test set: {}\".format(len(test_tweets)))\n",
    "\n",
    "# only select first 1000 test sample for test\n",
    "test_tweets = test_tweets[:1000]\n",
    "test_labels = test_labels[:1000]\n",
    "\n",
    "print(\"*\"*100)\n",
    "print(\"size of train set: {}, #positive: {}, #negative: {}\".format(len(train_tweets), np.sum(train_labels), len(train_tweets)-np.sum(train_labels)))\n",
    "print(\"size of test set: {}, #positive: {}, #negative: {}\".format(len(test_tweets), np.sum(test_labels), len(test_tweets)-np.sum(test_labels)))\n",
    "\n",
    "# show text of the idx-th train tweet\n",
    "# The 'padtoken' is used to ensure each tweet has the same length\n",
    "idx = 100\n",
    "train_text = [vocabulary[x] for x in train_tweets[idx]]\n",
    "print(train_text)\n",
    "sentiment_label = [\"negative\", \"positive\"]\n",
    "print(\"sentiment: {}\".format(sentiment_label[train_labels[idx]]))"
   ]
  },
  {
   "cell_type": "code",
   "execution_count": 3,
   "metadata": {},
   "outputs": [
    {
     "name": "stdout",
     "output_type": "stream",
     "text": [
      "[[ 345   55 3679 ...,    1    1    1]\n",
      " [  20 1563    1 ...,    1    1    1]\n",
      " [ 256   75 1172 ...,    1    1    1]\n",
      " ..., \n",
      " [   2  108   90 ...,    1    1    1]\n",
      " [ 188    2 1842 ...,    1    1    1]\n",
      " [1148   27  487 ...,    1    1    1]]\n",
      "(60000, 20)\n",
      "[[   2    1    1 ...,    1    1    1]\n",
      " [  23    2   62 ...,    1    1    1]\n",
      " [   2   14  532 ...,    1    1    1]\n",
      " ..., \n",
      " [   2   40  121 ...,    1    1    1]\n",
      " [1012   10   30 ...,    1    1    1]\n",
      " [   2  441    1 ...,    1    1    1]]\n",
      "(1000,)\n"
     ]
    }
   ],
   "source": [
    "print(train_tweets)\n",
    "print(train_tweets.shape)\n",
    "print(test_tweets)\n",
    "print(test_labels.shape)"
   ]
  },
  {
   "cell_type": "markdown",
   "metadata": {},
   "source": [
    "## Part 1: LSTM Encoder"
   ]
  },
  {
   "cell_type": "markdown",
   "metadata": {},
   "source": [
    "### train a single-layer lstm network\n",
    "\n",
    "First of all, we'll build a single-layer LSTM network for the analysis. The network structure is the following:\n",
    "\n",
    "![](./img/singleLSTM.png)\n",
    "\n",
    "<span style=\"color:red\">__TODO:__</span> Below, we've defined the network for you. Please read the code carefully to make sure you understand it. Then, please write a training function to train this network. The settings are:\n",
    "\n",
    "1. Train the network for 1000 iterations. In each iteration, use batch_size samples to train the network.\n",
    "2. For every 50 iterations, apply the network on the test set, and print out the test accuracy and mean loss.\n",
    "\n",
    "With these settings, what accuracy could you get? You can try to change some stuff in the network to see if you could get a better accuracy (this is optional)."
   ]
  },
  {
   "cell_type": "code",
   "execution_count": 3,
   "metadata": {
    "collapsed": true
   },
   "outputs": [],
   "source": [
    "# define a linear layer, y = x*w + b\n",
    "def linear(input_, output_size, name, init_bias=0.0):\n",
    "    shape = input_.get_shape().as_list()\n",
    "    with tf.variable_scope(name):\n",
    "        init = tf.truncated_normal([shape[-1], output_size], mean=0.0, stddev=1.0 / shape[-1]**0.5)\n",
    "        W = tf.get_variable(\"weight\", initializer=init)\n",
    "    if init_bias is None:\n",
    "        return tf.matmul(input_, W)\n",
    "    with tf.variable_scope(name):\n",
    "        b = tf.get_variable(\"bias\", [output_size], initializer=tf.constant_initializer(init_bias))\n",
    "    return tf.matmul(input_, W) + b   "
   ]
  },
  {
   "cell_type": "code",
   "execution_count": 4,
   "metadata": {},
   "outputs": [
    {
     "name": "stdout",
     "output_type": "stream",
     "text": [
      "outputs is  Tensor(\"rnn/transpose:0\", shape=(64, 20, 100), dtype=float32)\n",
      "final_state is  LSTMStateTuple(c=<tf.Tensor 'rnn/while/Exit_2:0' shape=(64, 100) dtype=float32>, h=<tf.Tensor 'rnn/while/Exit_3:0' shape=(64, 100) dtype=float32>)\n"
     ]
    }
   ],
   "source": [
    "# set variables\n",
    "tweet_size = 20\n",
    "hidden_size = 100\n",
    "vocab_size = 7597\n",
    "batch_size = 64\n",
    "\n",
    "# this just makes sure that all our following operations will be placed in the right graph.\n",
    "tf.reset_default_graph()\n",
    "\n",
    "# make placeholders for data we'll feed in\n",
    "tweets = tf.placeholder(tf.int32, [None, tweet_size])\n",
    "labels = tf.placeholder(tf.float32, [None])\n",
    "\n",
    "tweets_onehot = tf.one_hot(tweets, depth=vocab_size, axis=-1)\n",
    "\n",
    "# define the lstm cell\n",
    "lstm_cell = tf.contrib.rnn.LSTMCell(hidden_size)\n",
    "\n",
    "# define the op that runs the LSTM, across time, on the data\n",
    "init_state = lstm_cell.zero_state(batch_size, tf.float32)\n",
    "#init_state = lstm_cell.zero_state(tf.shape(labels)[0], tf.float32)\n",
    "outputs, final_state = tf.nn.dynamic_rnn(lstm_cell, tweets_onehot, initial_state=init_state, dtype=tf.float32)\n",
    "print('outputs is ',outputs)\n",
    "print('final_state is ',final_state)\n",
    "# define that our final sentiment logit is a linear function of the final state of the LSTM\n",
    "sentiment = linear(final_state[-1], 1, name=\"output\")\n",
    "\n",
    "# define cross entropy/sigmoid loss function\n",
    "sentiment = tf.squeeze(sentiment, [1])\n",
    "loss = tf.nn.sigmoid_cross_entropy_with_logits(logits=sentiment, labels=labels)\n",
    "loss = tf.reduce_mean(loss)\n",
    "\n",
    "# compute accuracy\n",
    "prob = tf.nn.sigmoid(sentiment)\n",
    "prediction = tf.to_float(tf.greater_equal(prob, 0.5))\n",
    "acc = tf.to_float(tf.equal(prediction, labels))\n",
    "acc = tf.reduce_mean(acc)\n",
    "\n",
    "# define optimizer\n",
    "trainer = tf.train.AdamOptimizer()\n",
    "gradients = trainer.compute_gradients(loss)\n",
    "gradients_clipped = [(tf.clip_by_value(t[0],-1,1),t[1]) for t in gradients]\n",
    "optimizer = trainer.apply_gradients(gradients_clipped)"
   ]
  },
  {
   "cell_type": "code",
   "execution_count": 5,
   "metadata": {
    "scrolled": false
   },
   "outputs": [
    {
     "name": "stdout",
     "output_type": "stream",
     "text": [
      "train step 50, i.e. test step 1: test_loss = 0.6550866365432739, test_acc = 0.59375 and mean training loss = 0.6756088277872871\n",
      "train step 100, i.e. test step 2: test_loss = 0.5622677206993103, test_acc = 0.765625 and mean training loss = 0.627291192512701\n",
      "train step 150, i.e. test step 3: test_loss = 0.6083633899688721, test_acc = 0.703125 and mean training loss = 0.5988449016154207\n",
      "train step 200, i.e. test step 4: test_loss = 0.5541245341300964, test_acc = 0.75 and mean training loss = 0.5831213187222457\n",
      "train step 250, i.e. test step 5: test_loss = 0.5983010530471802, test_acc = 0.6875 and mean training loss = 0.5727048971026067\n",
      "train step 300, i.e. test step 6: test_loss = 0.5261391997337341, test_acc = 0.71875 and mean training loss = 0.5666067921046006\n",
      "train step 350, i.e. test step 7: test_loss = 0.6282404661178589, test_acc = 0.734375 and mean training loss = 0.5589612020216777\n",
      "train step 400, i.e. test step 8: test_loss = 0.5996931195259094, test_acc = 0.6875 and mean training loss = 0.5510472199714689\n",
      "train step 450, i.e. test step 9: test_loss = 0.5577926635742188, test_acc = 0.78125 and mean training loss = 0.5472208883968531\n",
      "train step 500, i.e. test step 10: test_loss = 0.5106652975082397, test_acc = 0.734375 and mean training loss = 0.5437514494041245\n",
      "train step 550, i.e. test step 11: test_loss = 0.4730054438114166, test_acc = 0.765625 and mean training loss = 0.5408990730391223\n",
      "train step 600, i.e. test step 12: test_loss = 0.5009470582008362, test_acc = 0.734375 and mean training loss = 0.5375111193803701\n",
      "train step 650, i.e. test step 13: test_loss = 0.47614917159080505, test_acc = 0.765625 and mean training loss = 0.5330613066432297\n",
      "train step 700, i.e. test step 14: test_loss = 0.4550248980522156, test_acc = 0.78125 and mean training loss = 0.5304837939827657\n",
      "train step 750, i.e. test step 15: test_loss = 0.46230548620224, test_acc = 0.8125 and mean training loss = 0.5282852106421353\n",
      "train step 800, i.e. test step 16: test_loss = 0.48460572957992554, test_acc = 0.78125 and mean training loss = 0.5266322907660338\n",
      "train step 850, i.e. test step 17: test_loss = 0.5380063652992249, test_acc = 0.703125 and mean training loss = 0.5241589778738772\n",
      "train step 900, i.e. test step 18: test_loss = 0.6001895070075989, test_acc = 0.71875 and mean training loss = 0.5220680444208816\n",
      "train step 950, i.e. test step 19: test_loss = 0.5370348691940308, test_acc = 0.734375 and mean training loss = 0.5196431767113201\n",
      "train step 1000, i.e. test step 20: test_loss = 0.5405017137527466, test_acc = 0.6875 and mean training loss = 0.5169204345771244\n",
      "Final Step no 1001: Final mean train_loss = 0.5169204345771244, Final mean test accuracy = 0.73203125 and Final step train_loss = 0.4837546646595001\n"
     ]
    },
    {
     "data": {
      "image/png": "[encoded data removed]",
      "text/plain": [
       "<matplotlib.figure.Figure at 0x7f616e959630>"
      ]
     },
     "metadata": {},
     "output_type": "display_data"
    }
   ],
   "source": [
    "# Training function\n",
    "num_steps = 1001\n",
    "train_loss_hist=[]\n",
    "train_acc_hist=[]\n",
    "test_loss_hist=[]\n",
    "test_acc_hist=[]\n",
    "test_loss=1.0\n",
    "test_acc=0.0\n",
    "test_step_no=0\n",
    "test_step_no_print=0\n",
    "train_step_use=0\n",
    "mean_train_loss=0\n",
    "total_train_loss=0\n",
    "mean_test_accuracy=0\n",
    "total_test_accuracy=0\n",
    "with tf.Session() as sess:\n",
    "    sess.run(tf.global_variables_initializer())\n",
    "    test_step_no=0\n",
    "    test_step_no_print=0\n",
    "    train_step_use=0\n",
    "    for step in range(num_steps):\n",
    "        # TODO: get data for a batch\n",
    "        if(step>935):\n",
    "            train_step_use=step-935\n",
    "        else:\n",
    "            train_step_use=step\n",
    "        batch_tweets = train_tweets[train_step_use * batch_size: (1 + train_step_use) * batch_size]\n",
    "        batch_labels = train_labels[train_step_use * batch_size: (1 + train_step_use) * batch_size]\n",
    "        #training_batch_x = X_train[itr * batch_size: (1 + itr) * batch_size]\n",
    "        #training_batch_y = y_train[itr * batch_size: (1 + itr) * batch_size]\n",
    "        \n",
    "        # TODO: run the 'optimizer', 'loss', and 'acc' operations in the graph using the batch data\n",
    "        sess.run(optimizer, feed_dict={tweets: batch_tweets, labels: batch_labels})\n",
    "        train_loss=sess.run(loss, feed_dict={tweets: batch_tweets, labels: batch_labels})\n",
    "        train_acc=sess.run(acc, feed_dict={tweets: batch_tweets, labels: batch_labels})\n",
    "        train_loss_hist.append(train_loss)\n",
    "        train_acc_hist.append(train_acc)\n",
    "        total_train_loss=total_train_loss+train_loss\n",
    "        mean_train_loss=total_train_loss/(step+1)\n",
    "        #print('step {}: train_loss = {} and train_acc = {}'.format(step+1, train_loss,train_acc))\n",
    "        #_, train_loss, train_acc = pass\n",
    "                \n",
    "        if ((step % 50 == 0) and (step>10)):\n",
    "            # TODO: get test accuracy and loss, and print them out.\n",
    "            #test_step=int(step/50)\n",
    "            test_batch_tweets = test_tweets[test_step_no * batch_size: (1 + test_step_no) * batch_size]\n",
    "            test_batch_labels = test_labels[test_step_no * batch_size: (1 + test_step_no) * batch_size] \n",
    "            #test_batch_tweets=test_tweets\n",
    "            #test_batch_labels=test_labels\n",
    "            test_loss=sess.run(loss, feed_dict={tweets: test_batch_tweets, labels: test_batch_labels})\n",
    "            test_acc=sess.run(acc, feed_dict={tweets: test_batch_tweets, labels: test_batch_labels})\n",
    "            test_loss_hist.append(test_loss)\n",
    "            test_acc_hist.append(test_acc)\n",
    "            total_test_accuracy=total_test_accuracy+test_acc\n",
    "            print('train step {}, i.e. test step {}: test_loss = {}, test_acc = {} and mean training loss = {}'.format(step,test_step_no_print+1, test_loss,test_acc,mean_train_loss))\n",
    "            test_step_no=test_step_no+1\n",
    "            test_step_no_print=test_step_no_print+1\n",
    "            if(test_step_no==15):\n",
    "                test_step_no=1\n",
    "        else:\n",
    "            test_loss_hist.append(test_loss)\n",
    "            test_acc_hist.append(test_acc)\n",
    "    mean_test_accuracy=total_test_accuracy/20\n",
    "    print('Final Step no {}: Final mean train_loss = {}, Final mean test accuracy = {} and Final step train_loss = {}'.format(step+1, mean_train_loss,mean_test_accuracy,train_loss))\n",
    "    plt.plot(train_loss_hist, label=\"train loss\")\n",
    "    plt.plot(train_acc_hist, label=\"train acc\")\n",
    "    plt.plot(test_loss_hist, label=\"test loss\")\n",
    "    plt.plot(test_acc_hist, label=\"test acc\")\n",
    "    plt.legend()\n",
    "    plt.show()"
   ]
  },
  {
   "cell_type": "code",
   "execution_count": 34,
   "metadata": {
    "collapsed": true
   },
   "outputs": [],
   "source": [
    "#Please note the above printed values for Final mean train_loss = 0.516863959622788, Final mean test accuracy = 0.734375\n",
    "#are as per the guidelines given by TA Tingyu Mao in Piazza Post no https://piazza.com/class/j724is6jana3l7?cid=295\n",
    "#and TA Jingyu Qian in Piazza Post no https://piazza.com/class/j724is6jana3l7?cid=291"
   ]
  },
  {
   "cell_type": "code",
   "execution_count": 21,
   "metadata": {
    "collapsed": true
   },
   "outputs": [],
   "source": [
    "#SOME EXPERIMENTS BELOW\n",
    "train_loss_hist_STORE1=train_loss_hist\n",
    "train_acc_hist_STORE1=train_acc_hist\n",
    "test_loss_hist_STORE1=test_loss_hist\n",
    "test_acc_hist_STORE1=test_acc_hist"
   ]
  },
  {
   "cell_type": "code",
   "execution_count": 25,
   "metadata": {},
   "outputs": [
    {
     "data": {
      "image/png": "[encoded data removed]",
      "text/plain": [
       "<matplotlib.figure.Figure at 0x2919c20f128>"
      ]
     },
     "metadata": {},
     "output_type": "display_data"
    }
   ],
   "source": [
    "train_mean_loss_hist=[]\n",
    "train_cumu_loss=0\n",
    "train_running_avg_loss=0\n",
    "index=0\n",
    "for idno in range(1000):\n",
    "    train_cumu_loss=train_cumu_loss+float(train_loss_hist_STORE1[idno])\n",
    "    train_running_avg_loss=train_cumu_loss/(idno+1)\n",
    "    train_mean_loss_hist.append(train_running_avg_loss)\n",
    "    index=index+1\n",
    "    \n",
    "plt.plot(train_mean_loss_hist, label=\"train mean loss\")\n",
    "plt.plot(train_acc_hist_STORE1, label=\"train acc\")\n",
    "plt.plot(test_loss_hist_STORE1, label=\"test loss\")\n",
    "plt.plot(test_acc_hist_STORE1, label=\"test acc\")\n",
    "plt.legend()\n",
    "plt.show()"
   ]
  },
  {
   "cell_type": "code",
   "execution_count": null,
   "metadata": {
    "collapsed": true
   },
   "outputs": [],
   "source": []
  },
  {
   "cell_type": "code",
   "execution_count": null,
   "metadata": {
    "collapsed": true
   },
   "outputs": [],
   "source": []
  },
  {
   "cell_type": "markdown",
   "metadata": {},
   "source": [
    "### train a two-layer lstm network\n",
    "\n",
    "Next, we look at a slightly more difficult network structure: a double-layer LSTM. The output of the first LSTM cell is propagated to the second LSTM cell. We only need to make small modifications to the previous network to construct this one.\n",
    "\n",
    "![](./img/doubleLSTM.png)\n",
    "\n",
    "<span style=\"color:red\">__TODO:__</span> Define this double-layer LSTM in the below notebook cell. You can copy the single-layer network code and make changes to it. After that, train the network using the function you just wrote.\n",
    "\n",
    "Hint: Use **tf.contrib.rnn.MultiRNNCell**. You'll find there are only 2-3 lines of code that need to be changed."
   ]
  },
  {
   "cell_type": "code",
   "execution_count": 17,
   "metadata": {
    "collapsed": true
   },
   "outputs": [],
   "source": [
    "# YOUR DOUBLE-LAYER LSTM Here\n",
    "# define a linear layer, y = x*w + b\n",
    "def linear(input_, output_size, name, init_bias=0.0):\n",
    "    shape = input_.get_shape().as_list()\n",
    "    with tf.variable_scope(name):\n",
    "        init = tf.truncated_normal([shape[-1], output_size], mean=0.0, stddev=1.0 / shape[-1]**0.5)\n",
    "        W = tf.get_variable(\"weight\", initializer=init)\n",
    "    if init_bias is None:\n",
    "        return tf.matmul(input_, W)\n",
    "    with tf.variable_scope(name):\n",
    "        b = tf.get_variable(\"bias\", [output_size], initializer=tf.constant_initializer(init_bias))\n",
    "    return tf.matmul(input_, W) + b  "
   ]
  },
  {
   "cell_type": "code",
   "execution_count": 18,
   "metadata": {},
   "outputs": [
    {
     "name": "stdout",
     "output_type": "stream",
     "text": [
      "outputs is  Tensor(\"rnn/transpose:0\", shape=(64, 20, 100), dtype=float32)\n",
      "final_state is  (LSTMStateTuple(c=<tf.Tensor 'rnn/while/Exit_2:0' shape=(64, 100) dtype=float32>, h=<tf.Tensor 'rnn/while/Exit_3:0' shape=(64, 100) dtype=float32>), LSTMStateTuple(c=<tf.Tensor 'rnn/while/Exit_4:0' shape=(64, 100) dtype=float32>, h=<tf.Tensor 'rnn/while/Exit_5:0' shape=(64, 100) dtype=float32>))\n"
     ]
    }
   ],
   "source": [
    "# set variables\n",
    "tweet_size = 20\n",
    "hidden_size = 100\n",
    "vocab_size = 7597\n",
    "batch_size = 64\n",
    "\n",
    "# this just makes sure that all our following operations will be placed in the right graph.\n",
    "tf.reset_default_graph()\n",
    "\n",
    "# make placeholders for data we'll feed in\n",
    "tweets = tf.placeholder(tf.int32, [None, tweet_size])\n",
    "labels = tf.placeholder(tf.float32, [None])\n",
    "\n",
    "tweets_onehot = tf.one_hot(tweets, depth=vocab_size, axis=-1)\n",
    "\n",
    "# define the lstm cell\n",
    "no_layers=2\n",
    "#cell = tf.nn.rnn_cell.LSTMCell(state_size, state_is_tuple=True)\n",
    "#cell = tf.nn.rnn_cell.MultiRNNCell([cell] * num_layers, state_is_tuple=True)\n",
    "lstm_cell_1 = tf.contrib.rnn.LSTMCell(hidden_size)\n",
    "lstm_cell_2 = tf.contrib.rnn.LSTMCell(hidden_size)\n",
    "lstm_cell_multi = tf.contrib.rnn.MultiRNNCell(cells=[lstm_cell_1, lstm_cell_2])\n",
    "\n",
    "#lstm_cell = tf.contrib.rnn.LSTMCell(hidden_size)\n",
    "#lstm_cell_multi = tf.contrib.rnn.MultiRNNCell([lstm_cell]*no_layers) #CHANGED HERE\n",
    "\n",
    "# define the op that runs the LSTM, across time, on the data\n",
    "init_state = lstm_cell_multi.zero_state(batch_size, tf.float32)\n",
    "outputs, final_state = tf.nn.dynamic_rnn(lstm_cell_multi, tweets_onehot, initial_state=init_state, dtype=tf.float32)\n",
    "print('outputs is ',outputs)\n",
    "print('final_state is ',final_state)\n",
    "#init_state = lstm_cell_multi.zero_state(tf.shape(labels)[0], tf.float32)\n",
    "#outputs, final_state = tf.nn.dynamic_rnn(lstm_cell_multi, tweets_onehot, initial_state=init_state, dtype=tf.float32) #CHANGED HERE\n",
    "\n",
    "# define that our final sentiment logit is a linear function of the final state of the LSTM\n",
    "#final_state_used=final_state[1]\n",
    "sentiment = linear(final_state[-1][-1], 1, name=\"output\") #CHANGED HERE\n",
    "\n",
    "# define cross entropy/sigmoid loss function\n",
    "sentiment = tf.squeeze(sentiment, [1])\n",
    "loss = tf.nn.sigmoid_cross_entropy_with_logits(logits=sentiment, labels=labels)\n",
    "loss = tf.reduce_mean(loss)\n",
    "\n",
    "# compute accuracy\n",
    "prob = tf.nn.sigmoid(sentiment)\n",
    "prediction = tf.to_float(tf.greater_equal(prob, 0.5))\n",
    "acc = tf.to_float(tf.equal(prediction, labels))\n",
    "acc = tf.reduce_mean(acc)\n",
    "\n",
    "# define optimizer\n",
    "trainer = tf.train.AdamOptimizer()\n",
    "gradients = trainer.compute_gradients(loss)\n",
    "gradients_clipped = [(tf.clip_by_value(t[0],-1,1),t[1]) for t in gradients]\n",
    "optimizer = trainer.apply_gradients(gradients_clipped)"
   ]
  },
  {
   "cell_type": "code",
   "execution_count": null,
   "metadata": {
    "collapsed": true
   },
   "outputs": [],
   "source": []
  },
  {
   "cell_type": "code",
   "execution_count": null,
   "metadata": {
    "collapsed": true
   },
   "outputs": [],
   "source": []
  },
  {
   "cell_type": "code",
   "execution_count": 19,
   "metadata": {},
   "outputs": [
    {
     "name": "stdout",
     "output_type": "stream",
     "text": [
      "train step 50, i.e. test step 1: test_loss = 0.6401662826538086, test_acc = 0.671875 and mean training loss = 0.6489521884450725\n",
      "train step 100, i.e. test step 2: test_loss = 0.5384102463722229, test_acc = 0.796875 and mean training loss = 0.6102414874747248\n",
      "train step 150, i.e. test step 3: test_loss = 0.5887268781661987, test_acc = 0.6875 and mean training loss = 0.5842469970122078\n",
      "train step 200, i.e. test step 4: test_loss = 0.5508347749710083, test_acc = 0.75 and mean training loss = 0.5701038927877721\n",
      "train step 250, i.e. test step 5: test_loss = 0.5898932218551636, test_acc = 0.734375 and mean training loss = 0.5609893739460949\n",
      "train step 300, i.e. test step 6: test_loss = 0.5313346982002258, test_acc = 0.75 and mean training loss = 0.5562768887443796\n",
      "train step 350, i.e. test step 7: test_loss = 0.6237496137619019, test_acc = 0.734375 and mean training loss = 0.5492525022593658\n",
      "train step 400, i.e. test step 8: test_loss = 0.590978741645813, test_acc = 0.671875 and mean training loss = 0.5418106229822535\n",
      "train step 450, i.e. test step 9: test_loss = 0.5254565477371216, test_acc = 0.828125 and mean training loss = 0.5380214802309573\n",
      "train step 500, i.e. test step 10: test_loss = 0.5096339583396912, test_acc = 0.734375 and mean training loss = 0.535144975323401\n",
      "train step 550, i.e. test step 11: test_loss = 0.4626457095146179, test_acc = 0.8125 and mean training loss = 0.5327237598368131\n",
      "train step 600, i.e. test step 12: test_loss = 0.4979111850261688, test_acc = 0.734375 and mean training loss = 0.5300011521766269\n",
      "train step 650, i.e. test step 13: test_loss = 0.4647943377494812, test_acc = 0.765625 and mean training loss = 0.5257382617201857\n",
      "train step 700, i.e. test step 14: test_loss = 0.44823747873306274, test_acc = 0.8125 and mean training loss = 0.5233979024917695\n",
      "train step 750, i.e. test step 15: test_loss = 0.4563298225402832, test_acc = 0.828125 and mean training loss = 0.5213512215966708\n",
      "train step 800, i.e. test step 16: test_loss = 0.47127771377563477, test_acc = 0.796875 and mean training loss = 0.5199031295550153\n",
      "train step 850, i.e. test step 17: test_loss = 0.5266256332397461, test_acc = 0.703125 and mean training loss = 0.517628470893192\n",
      "train step 900, i.e. test step 18: test_loss = 0.5977902412414551, test_acc = 0.671875 and mean training loss = 0.5156322360435681\n",
      "train step 950, i.e. test step 19: test_loss = 0.5240044593811035, test_acc = 0.765625 and mean training loss = 0.5133751705367232\n",
      "train step 1000, i.e. test step 20: test_loss = 0.5568612813949585, test_acc = 0.6875 and mean training loss = 0.5107108263762205\n",
      "Final Step no 1001: Final mean train_loss = 0.5107108263762205, Final mean test accuracy = 0.746875 and Final step train_loss = 0.4652547538280487\n"
     ]
    },
    {
     "data": {
      "image/png": "[encoded data removed]",
      "text/plain": [
       "<matplotlib.figure.Figure at 0x7fc827f70b00>"
      ]
     },
     "metadata": {},
     "output_type": "display_data"
    }
   ],
   "source": [
    "# YOUR TRAINING HERE\n",
    "# Training function\n",
    "num_steps = 1001\n",
    "train_loss_hist=[]\n",
    "train_acc_hist=[]\n",
    "test_loss_hist=[]\n",
    "test_acc_hist=[]\n",
    "test_loss=1.0\n",
    "test_acc=0.0\n",
    "test_step_no=0\n",
    "test_step_no_print=0\n",
    "train_step_use=0\n",
    "mean_train_loss=0\n",
    "total_train_loss=0\n",
    "mean_test_accuracy=0\n",
    "total_test_accuracy=0\n",
    "with tf.Session() as sess:\n",
    "    sess.run(tf.global_variables_initializer())\n",
    "    test_step_no=0\n",
    "    test_step_no_print=0\n",
    "    train_step_use=0\n",
    "    for step in range(num_steps):\n",
    "        # TODO: get data for a batch\n",
    "        if(step>935):\n",
    "            train_step_use=step-935\n",
    "        else:\n",
    "            train_step_use=step\n",
    "        batch_tweets = train_tweets[train_step_use * batch_size: (1 + train_step_use) * batch_size]\n",
    "        batch_labels = train_labels[train_step_use * batch_size: (1 + train_step_use) * batch_size]\n",
    "        #training_batch_x = X_train[itr * batch_size: (1 + itr) * batch_size]\n",
    "        #training_batch_y = y_train[itr * batch_size: (1 + itr) * batch_size]\n",
    "        \n",
    "        # TODO: run the 'optimizer', 'loss', and 'acc' operations in the graph using the batch data\n",
    "        sess.run(optimizer, feed_dict={tweets: batch_tweets, labels: batch_labels})\n",
    "        train_loss=sess.run(loss, feed_dict={tweets: batch_tweets, labels: batch_labels})\n",
    "        train_acc=sess.run(acc, feed_dict={tweets: batch_tweets, labels: batch_labels})\n",
    "        train_loss_hist.append(train_loss)\n",
    "        train_acc_hist.append(train_acc)\n",
    "        total_train_loss=total_train_loss+train_loss\n",
    "        mean_train_loss=total_train_loss/(step+1)\n",
    "        #print('step {}: train_loss = {} and train_acc = {}'.format(step+1, train_loss,train_acc))\n",
    "        #_, train_loss, train_acc = pass\n",
    "                \n",
    "        if ((step % 50 == 0) and (step>10)):\n",
    "            # TODO: get test accuracy and loss, and print them out.\n",
    "            #test_step=int(step/50)\n",
    "            test_batch_tweets = test_tweets[test_step_no * batch_size: (1 + test_step_no) * batch_size]\n",
    "            test_batch_labels = test_labels[test_step_no * batch_size: (1 + test_step_no) * batch_size] \n",
    "            #test_batch_tweets=test_tweets\n",
    "            #test_batch_labels=test_labels\n",
    "            test_loss=sess.run(loss, feed_dict={tweets: test_batch_tweets, labels: test_batch_labels})\n",
    "            test_acc=sess.run(acc, feed_dict={tweets: test_batch_tweets, labels: test_batch_labels})\n",
    "            test_loss_hist.append(test_loss)\n",
    "            test_acc_hist.append(test_acc)\n",
    "            total_test_accuracy=total_test_accuracy+test_acc\n",
    "            print('train step {}, i.e. test step {}: test_loss = {}, test_acc = {} and mean training loss = {}'.format(step,test_step_no_print+1, test_loss,test_acc,mean_train_loss))\n",
    "            test_step_no=test_step_no+1\n",
    "            test_step_no_print=test_step_no_print+1\n",
    "            if(test_step_no==15):\n",
    "                test_step_no=1\n",
    "        else:\n",
    "            test_loss_hist.append(test_loss)\n",
    "            test_acc_hist.append(test_acc)\n",
    "    mean_test_accuracy=total_test_accuracy/20\n",
    "    print('Final Step no {}: Final mean train_loss = {}, Final mean test accuracy = {} and Final step train_loss = {}'.format(step+1, mean_train_loss,mean_test_accuracy,train_loss))\n",
    "    plt.plot(train_loss_hist, label=\"train loss\")\n",
    "    plt.plot(train_acc_hist, label=\"train acc\")\n",
    "    plt.plot(test_loss_hist, label=\"test loss\")\n",
    "    plt.plot(test_acc_hist, label=\"test acc\")\n",
    "    plt.legend()\n",
    "    plt.show()"
   ]
  },
  {
   "cell_type": "code",
   "execution_count": null,
   "metadata": {
    "collapsed": true
   },
   "outputs": [],
   "source": []
  },
  {
   "cell_type": "markdown",
   "metadata": {},
   "source": [
    "## Part 2: Embedding Lookup layer\n",
    "\n",
    "![](./img/embedding.png)"
   ]
  },
  {
   "cell_type": "markdown",
   "metadata": {},
   "source": [
    "###  Define an embedding layer\n",
    "\n",
    "It's not hard to imagine in the previous practices, the input we fed in are very sparse because each word was represented as a one-hot vector. This makes it difficult for the network to understand what story the input data is telling. \n",
    "\n",
    "Word embedding: instead of using a one-hot vector to represent each word, we can add an word embedding matrix in which each word is represented as a low-dimensional vector. Note that this representation is not sparse any more, because we're working in a continuous vector space now. Words that share similar/related semantic meaning should be 'close to each other' in this vector space (we could define a distance measure to estimate the closeness). \n",
    "\n",
    "[https://www.tensorflow.org/tutorials/word2vec](https://www.tensorflow.org/tutorials/word2vec)\n",
    "\n",
    "<span style=\"color:red\">__TODO:__</span> Take a look at the website above, and write a function to do the embedding. The website itself is a very good tutorial.\n",
    "\n",
    "Hint: Use **tf.nn.embedding_lookup**"
   ]
  },
  {
   "cell_type": "code",
   "execution_count": 20,
   "metadata": {
    "collapsed": true
   },
   "outputs": [],
   "source": [
    "def embedding(input_, vocab_size, output_size, name):\n",
    "    \"\"\"\n",
    "    1. Define an embedding matrix\n",
    "    2. return both the lookup results and the embedding matrix.\n",
    "    \"\"\"\n",
    "    embedding_matrix = tf.Variable(tf.random_uniform([vocab_size, output_size], -1.0, 1.0),name = name)\n",
    "    lookup_result = tf.nn.embedding_lookup(embedding_matrix, input_)\n",
    "    return embedding_matrix,lookup_result\n",
    "# YOUR CODE HERE\n",
    "def linear(input_, output_size, name, init_bias=0.0):\n",
    "    shape = input_.get_shape().as_list()\n",
    "    with tf.variable_scope(name):\n",
    "        init = tf.truncated_normal([shape[-1], output_size], mean=0.0, stddev=1.0 / shape[-1]**0.5)\n",
    "        W = tf.get_variable(\"weight\", initializer=init)\n",
    "    if init_bias is None:\n",
    "        return tf.matmul(input_, W)\n",
    "    with tf.variable_scope(name):\n",
    "        b = tf.get_variable(\"bias\", [output_size], initializer=tf.constant_initializer(init_bias))\n",
    "    return tf.matmul(input_, W) + b "
   ]
  },
  {
   "cell_type": "markdown",
   "metadata": {},
   "source": [
    "### Train a single lstm network with embedding layer\n",
    "\n",
    "<span style=\"color:red\">__TODO:__</span> Build a single-layer LSTM network according to the network structure. Then, train the network with the training function you wrote."
   ]
  },
  {
   "cell_type": "code",
   "execution_count": 22,
   "metadata": {},
   "outputs": [
    {
     "name": "stdout",
     "output_type": "stream",
     "text": [
      "outputs is  Tensor(\"rnn/transpose:0\", shape=(64, 20, 100), dtype=float32)\n",
      "final_state is  LSTMStateTuple(c=<tf.Tensor 'rnn/while/Exit_2:0' shape=(64, 100) dtype=float32>, h=<tf.Tensor 'rnn/while/Exit_3:0' shape=(64, 100) dtype=float32>)\n"
     ]
    }
   ],
   "source": [
    "# set variables\n",
    "tweet_size = 20\n",
    "hidden_size = 100\n",
    "vocab_size = 7597\n",
    "batch_size = 64\n",
    "output_size = 200\n",
    "\n",
    "# this just makes sure that all our following operations will be placed in the right graph.\n",
    "tf.reset_default_graph()\n",
    "\n",
    "# make placeholders for data we'll feed in\n",
    "tweets = tf.placeholder(tf.int32, [None, tweet_size])\n",
    "labels = tf.placeholder(tf.float32, [None])\n",
    "\n",
    "#tweets_onehot = tf.one_hot(tweets, depth=vocab_size, axis=-1)\n",
    "embedding_matrix, lookup_result = embedding(tweets,vocab_size,output_size,'embedding_matrix')\n",
    "\n",
    "# define the lstm cell\n",
    "lstm_cell = tf.contrib.rnn.LSTMCell(hidden_size)\n",
    "\n",
    "# define the op that runs the LSTM, across time, on the data\n",
    "init_state = lstm_cell.zero_state(batch_size, tf.float32)\n",
    "#init_state = lstm_cell.zero_state(tf.shape(labels)[0], tf.float32)\n",
    "outputs, final_state = tf.nn.dynamic_rnn(lstm_cell, lookup_result, initial_state=init_state, dtype=tf.float32)\n",
    "print('outputs is ',outputs)\n",
    "print('final_state is ',final_state)\n",
    "# define that our final sentiment logit is a linear function of the final state of the LSTM\n",
    "sentiment = linear(final_state[-1], 1, name=\"output\")\n",
    "\n",
    "# define cross entropy/sigmoid loss function\n",
    "sentiment = tf.squeeze(sentiment, [1])\n",
    "loss = tf.nn.sigmoid_cross_entropy_with_logits(logits=sentiment, labels=labels)\n",
    "loss = tf.reduce_mean(loss)\n",
    "\n",
    "# compute accuracy\n",
    "prob = tf.nn.sigmoid(sentiment)\n",
    "prediction = tf.to_float(tf.greater_equal(prob, 0.5))\n",
    "acc = tf.to_float(tf.equal(prediction, labels))\n",
    "acc = tf.reduce_mean(acc)\n",
    "\n",
    "# define optimizer\n",
    "trainer = tf.train.AdamOptimizer()\n",
    "gradients = trainer.compute_gradients(loss)\n",
    "gradients_clipped = [(tf.clip_by_value(t[0],-1,1),t[1]) for t in gradients]\n",
    "optimizer = trainer.apply_gradients(gradients_clipped)"
   ]
  },
  {
   "cell_type": "code",
   "execution_count": 23,
   "metadata": {},
   "outputs": [
    {
     "name": "stdout",
     "output_type": "stream",
     "text": [
      "train step 50, i.e. test step 1: test_loss = 0.6866980791091919, test_acc = 0.578125 and mean training loss = 0.6933194059951633\n",
      "train step 100, i.e. test step 2: test_loss = 0.7005824446678162, test_acc = 0.5 and mean training loss = 0.6910310936446237\n",
      "train step 150, i.e. test step 3: test_loss = 0.6342464685440063, test_acc = 0.671875 and mean training loss = 0.6851847688883346\n",
      "train step 200, i.e. test step 4: test_loss = 0.6566768884658813, test_acc = 0.625 and mean training loss = 0.6662619090198878\n",
      "train step 250, i.e. test step 5: test_loss = 0.5527788400650024, test_acc = 0.6875 and mean training loss = 0.6471678859209159\n",
      "train step 300, i.e. test step 6: test_loss = 0.5761919021606445, test_acc = 0.6875 and mean training loss = 0.6348949895546682\n",
      "train step 350, i.e. test step 7: test_loss = 0.5998482704162598, test_acc = 0.671875 and mean training loss = 0.6219375982583418\n",
      "train step 400, i.e. test step 8: test_loss = 0.6344692707061768, test_acc = 0.65625 and mean training loss = 0.6105821120025511\n",
      "train step 450, i.e. test step 9: test_loss = 0.5979645848274231, test_acc = 0.671875 and mean training loss = 0.6013547061816552\n",
      "train step 500, i.e. test step 10: test_loss = 0.49752289056777954, test_acc = 0.765625 and mean training loss = 0.5938330646641478\n",
      "train step 550, i.e. test step 11: test_loss = 0.4700722098350525, test_acc = 0.828125 and mean training loss = 0.5875231913018789\n",
      "train step 600, i.e. test step 12: test_loss = 0.46151116490364075, test_acc = 0.765625 and mean training loss = 0.5808326231560572\n",
      "train step 650, i.e. test step 13: test_loss = 0.44325828552246094, test_acc = 0.796875 and mean training loss = 0.5738632505024267\n",
      "train step 700, i.e. test step 14: test_loss = 0.5157229900360107, test_acc = 0.71875 and mean training loss = 0.5694566051051893\n",
      "train step 750, i.e. test step 15: test_loss = 0.45540302991867065, test_acc = 0.8125 and mean training loss = 0.5649633855619697\n",
      "train step 800, i.e. test step 16: test_loss = 0.5126598477363586, test_acc = 0.765625 and mean training loss = 0.561113574159577\n",
      "train step 850, i.e. test step 17: test_loss = 0.49042484164237976, test_acc = 0.765625 and mean training loss = 0.5570512472112367\n",
      "train step 900, i.e. test step 18: test_loss = 0.6133782863616943, test_acc = 0.671875 and mean training loss = 0.5533831830360781\n",
      "train step 950, i.e. test step 19: test_loss = 0.49520015716552734, test_acc = 0.75 and mean training loss = 0.5497710284562517\n",
      "train step 1000, i.e. test step 20: test_loss = 0.5432605147361755, test_acc = 0.703125 and mean training loss = 0.5461367523813104\n",
      "Final Step no 1001: Final mean train_loss = 0.5461367523813104, Final mean test accuracy = 0.7046875 and Final step train_loss = 0.4592154622077942\n"
     ]
    },
    {
     "data": {
      "image/png": "[encoded data removed]",
      "text/plain": [
       "<matplotlib.figure.Figure at 0x7fc7d10e4e80>"
      ]
     },
     "metadata": {},
     "output_type": "display_data"
    }
   ],
   "source": [
    "# YOUR TRAINING HERE\n",
    "num_steps = 1001\n",
    "train_loss_hist=[]\n",
    "train_acc_hist=[]\n",
    "test_loss_hist=[]\n",
    "test_acc_hist=[]\n",
    "test_loss=1.0\n",
    "test_acc=0.0\n",
    "test_step_no=0\n",
    "test_step_no_print=0\n",
    "train_step_use=0\n",
    "mean_train_loss=0\n",
    "total_train_loss=0\n",
    "mean_test_accuracy=0\n",
    "total_test_accuracy=0\n",
    "with tf.Session() as sess:\n",
    "    sess.run(tf.global_variables_initializer())\n",
    "    test_step_no=0\n",
    "    test_step_no_print=0\n",
    "    train_step_use=0\n",
    "    for step in range(num_steps):\n",
    "        # TODO: get data for a batch\n",
    "        if(step>935):\n",
    "            train_step_use=step-935\n",
    "        else:\n",
    "            train_step_use=step\n",
    "        batch_tweets = train_tweets[train_step_use * batch_size: (1 + train_step_use) * batch_size]\n",
    "        batch_labels = train_labels[train_step_use * batch_size: (1 + train_step_use) * batch_size]\n",
    "        #training_batch_x = X_train[itr * batch_size: (1 + itr) * batch_size]\n",
    "        #training_batch_y = y_train[itr * batch_size: (1 + itr) * batch_size]\n",
    "        \n",
    "        # TODO: run the 'optimizer', 'loss', and 'acc' operations in the graph using the batch data\n",
    "        sess.run(optimizer, feed_dict={tweets: batch_tweets, labels: batch_labels})\n",
    "        train_loss=sess.run(loss, feed_dict={tweets: batch_tweets, labels: batch_labels})\n",
    "        train_acc=sess.run(acc, feed_dict={tweets: batch_tweets, labels: batch_labels})\n",
    "        train_loss_hist.append(train_loss)\n",
    "        train_acc_hist.append(train_acc)\n",
    "        total_train_loss=total_train_loss+train_loss\n",
    "        mean_train_loss=total_train_loss/(step+1)\n",
    "        #print('step {}: train_loss = {} and train_acc = {}'.format(step+1, train_loss,train_acc))\n",
    "        #_, train_loss, train_acc = pass\n",
    "                \n",
    "        if ((step % 50 == 0) and (step>10)):\n",
    "            # TODO: get test accuracy and loss, and print them out.\n",
    "            #test_step=int(step/50)\n",
    "            test_batch_tweets = test_tweets[test_step_no * batch_size: (1 + test_step_no) * batch_size]\n",
    "            test_batch_labels = test_labels[test_step_no * batch_size: (1 + test_step_no) * batch_size] \n",
    "            #test_batch_tweets=test_tweets\n",
    "            #test_batch_labels=test_labels\n",
    "            test_loss=sess.run(loss, feed_dict={tweets: test_batch_tweets, labels: test_batch_labels})\n",
    "            test_acc=sess.run(acc, feed_dict={tweets: test_batch_tweets, labels: test_batch_labels})\n",
    "            test_loss_hist.append(test_loss)\n",
    "            test_acc_hist.append(test_acc)\n",
    "            total_test_accuracy=total_test_accuracy+test_acc\n",
    "            print('train step {}, i.e. test step {}: test_loss = {}, test_acc = {} and mean training loss = {}'.format(step,test_step_no_print+1, test_loss,test_acc,mean_train_loss))\n",
    "            test_step_no=test_step_no+1\n",
    "            test_step_no_print=test_step_no_print+1\n",
    "            if(test_step_no==15):\n",
    "                test_step_no=1\n",
    "        else:\n",
    "            test_loss_hist.append(test_loss)\n",
    "            test_acc_hist.append(test_acc)\n",
    "    vocabulary_embeddings = sess.run(embedding_matrix)\n",
    "    mean_test_accuracy=total_test_accuracy/20\n",
    "    print('Final Step no {}: Final mean train_loss = {}, Final mean test accuracy = {} and Final step train_loss = {}'.format(step+1, mean_train_loss,mean_test_accuracy,train_loss))\n",
    "    plt.plot(train_loss_hist, label=\"train loss\")\n",
    "    plt.plot(train_acc_hist, label=\"train acc\")\n",
    "    plt.plot(test_loss_hist, label=\"test loss\")\n",
    "    plt.plot(test_acc_hist, label=\"test acc\")\n",
    "    plt.legend()\n",
    "    plt.show()\n",
    "    \n",
    "    \n"
   ]
  },
  {
   "cell_type": "markdown",
   "metadata": {},
   "source": [
    "### Visualize word vectors via tSNE\n",
    "\n",
    "<span style=\"color:red\">__TODO:__</span>\n",
    "\n",
    "First, you need to retrieve **embedding matrix** from the network. Then use tSNE to reduce each low-dimensional word vector into a 2D vector. \n",
    "\n",
    "And then, you should visualize some interesting word pairs in 2D panel. You may find **scatter** function in **matplotlib.pyplot** useful.\n",
    "\n",
    "\n",
    "Hint: You can use **TSNE** tool provided in **scikit-learn**. And if you encounter dead kernel problem caused by \"Intel MKL FATAL ERROR: Cannot load libmkl_avx.so or libmkl_def.so\", please reinstall scikit-learn without MKL, ie., **conda install nomkl numpy scipy scikit-learn numexpr**. \n",
    "\n",
    "Here we provide some word pairs for you, like female-male or country-capital. And you can observe that these word-pair will look parallel with each other in a 2D tSNE panel. And you can find some other words and explore their relationship.\n",
    "\n",
    "The result for female-male pairs should look like, and you will observe that king-men and queen-women are parallel to each other in a 2D panel.\n",
    "\n",
    "\n",
    "![](./img/tsne_female_male.png)"
   ]
  },
  {
   "cell_type": "code",
   "execution_count": 24,
   "metadata": {
    "collapsed": true
   },
   "outputs": [],
   "source": [
    "female_male = [\"men\", \"women\", \"king\", \"queen\"]\n",
    "country_capital = [\"spain\", \"madrid\", \"italy\", \"rome\", \"japan\", \"tokyo\"]\n",
    "# you can try some other words"
   ]
  },
  {
   "cell_type": "code",
   "execution_count": null,
   "metadata": {
    "collapsed": true
   },
   "outputs": [],
   "source": [
    "from sklearn.manifold import TSNE\n",
    "### your code here\n",
    "visualized_word_vectors = TSNE(n_components=2,init='pca', n_iter=1000, random_state=10).fit_transform(vocabulary_embeddings)\n"
   ]
  },
  {
   "cell_type": "code",
   "execution_count": 2,
   "metadata": {},
   "outputs": [
    {
     "ename": "NameError",
     "evalue": "name 'visualized_word_vectors' is not defined",
     "output_type": "error",
     "traceback": [
      "\u001b[0;31m---------------------------------------------------------------------------\u001b[0m",
      "\u001b[0;31mNameError\u001b[0m                                 Traceback (most recent call last)",
      "\u001b[0;32m<ipython-input-2-c17c52a27ffd>\u001b[0m in \u001b[0;36m<module>\u001b[0;34m()\u001b[0m\n\u001b[1;32m      8\u001b[0m         \u001b[0mres\u001b[0m\u001b[0;34m.\u001b[0m\u001b[0mappend\u001b[0m\u001b[0;34m(\u001b[0m\u001b[0midx\u001b[0m\u001b[0;34m[\u001b[0m\u001b[0mi\u001b[0m\u001b[0;34m]\u001b[0m\u001b[0;34m[\u001b[0m\u001b[0;36m0\u001b[0m\u001b[0;34m]\u001b[0m\u001b[0;34m[\u001b[0m\u001b[0;36m0\u001b[0m\u001b[0;34m]\u001b[0m\u001b[0;34m)\u001b[0m\u001b[0;34m\u001b[0m\u001b[0m\n\u001b[1;32m      9\u001b[0m     \u001b[0;32mreturn\u001b[0m \u001b[0mres\u001b[0m\u001b[0;34m\u001b[0m\u001b[0m\n\u001b[0;32m---> 10\u001b[0;31m \u001b[0mX\u001b[0m \u001b[0;34m=\u001b[0m \u001b[0mvisualized_word_vectors\u001b[0m\u001b[0;34m[\u001b[0m\u001b[0mwordvec\u001b[0m\u001b[0;34m(\u001b[0m\u001b[0mvocabulary\u001b[0m\u001b[0;34m,\u001b[0m\u001b[0mfemale_male\u001b[0m\u001b[0;34m)\u001b[0m\u001b[0;34m]\u001b[0m\u001b[0;34m\u001b[0m\u001b[0m\n\u001b[0m\u001b[1;32m     11\u001b[0m \u001b[0;34m\u001b[0m\u001b[0m\n\u001b[1;32m     12\u001b[0m \u001b[0mplt\u001b[0m\u001b[0;34m.\u001b[0m\u001b[0mscatter\u001b[0m\u001b[0;34m(\u001b[0m\u001b[0mX\u001b[0m\u001b[0;34m[\u001b[0m\u001b[0;34m:\u001b[0m\u001b[0;34m,\u001b[0m\u001b[0;36m0\u001b[0m\u001b[0;34m]\u001b[0m\u001b[0;34m,\u001b[0m\u001b[0mX\u001b[0m\u001b[0;34m[\u001b[0m\u001b[0;34m:\u001b[0m\u001b[0;34m,\u001b[0m\u001b[0;36m1\u001b[0m\u001b[0;34m]\u001b[0m\u001b[0;34m)\u001b[0m\u001b[0;34m\u001b[0m\u001b[0m\n",
      "\u001b[0;31mNameError\u001b[0m: name 'visualized_word_vectors' is not defined"
     ]
    }
   ],
   "source": [
    "import matplotlib.pyplot as plt\n",
    "%matplotlib inline\n",
    "\n",
    "def word_vector_function(vocab,words):\n",
    "    count = [np.where(vocab==word) for word in words]\n",
    "    output = []\n",
    "    for item in range(len(count)):\n",
    "        output.append(count[item][0][0])\n",
    "    return output\n",
    "plot1 = visualized_word_vectors[word_vector_function(vocabulary,female_male)]\n",
    "\n",
    "plt.scatter(plot1[:,0],plot1[:,1])\n",
    "\n",
    "for i, txt in enumerate(female_male):\n",
    "    plt.annotate(txt, (plot1[i,0],plot1[i,1]))\n",
    "plt.show()"
   ]
  },
  {
   "cell_type": "code",
   "execution_count": null,
   "metadata": {
    "collapsed": true
   },
   "outputs": [],
   "source": [
    "plot2 = visualized_word_vectors[word_vector_function(vocabulary,country_capital)]\n",
    "\n",
    "plt.scatter(plot2[:,0],plot2[:,1])\n",
    "\n",
    "for i, txt in enumerate(country_capital):\n",
    "    plt.annotate(txt, (plot2[i,0],plot2[i,1]))\n",
    "plt.show()"
   ]
  },
  {
   "cell_type": "markdown",
   "metadata": {},
   "source": [
    "#### <span style=\"color:red\">TODO: </span> describe your observation of these word vectors\n",
    "\n",
    "Answer: **[fill in here]**"
   ]
  }
 ],
 "metadata": {
  "kernelspec": {
   "display_name": "Python 3",
   "language": "python",
   "name": "python3"
  },
  "language_info": {
   "codemirror_mode": {
    "name": "ipython",
    "version": 3
   },
   "file_extension": ".py",
   "mimetype": "text/x-python",
   "name": "python",
   "nbconvert_exporter": "python",
   "pygments_lexer": "ipython3",
   "version": "3.5.4"
  }
 },
 "nbformat": 4,
 "nbformat_minor": 2
}
