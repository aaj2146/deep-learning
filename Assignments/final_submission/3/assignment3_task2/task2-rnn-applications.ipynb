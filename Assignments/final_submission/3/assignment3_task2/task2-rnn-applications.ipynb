{
 "cells": [
  {
   "cell_type": "markdown",
   "metadata": {},
   "source": [
    "# Task 2: RNN application -- Tweet Sentiment Analysis"
   ]
  },
  {
   "cell_type": "code",
   "execution_count": 20,
   "metadata": {},
   "outputs": [
    {
     "name": "stdout",
     "output_type": "stream",
     "text": [
      "The autoreload extension is already loaded. To reload it, use:\n",
      "  %reload_ext autoreload\n"
     ]
    }
   ],
   "source": [
    "# Import modules\n",
    "from __future__ import print_function\n",
    "import tensorflow as tf\n",
    "import numpy as np\n",
    "import json\n",
    "import time\n",
    "import matplotlib.pyplot as plt\n",
    "import pickle\n",
    "\n",
    "# Plot configurations\n",
    "% matplotlib inline\n",
    "# Notebook auto reloads code. (Ref: http://stackoverflow.com/questions/1907993/autoreload-of-modules-in-ipython)\n",
    "% load_ext autoreload\n",
    "% autoreload 2"
   ]
  },
  {
   "cell_type": "markdown",
   "metadata": {},
   "source": [
    "### Load data"
   ]
  },
  {
   "cell_type": "code",
   "execution_count": 21,
   "metadata": {},
   "outputs": [
    {
     "name": "stdout",
     "output_type": "stream",
     "text": [
      "size of original train set: 60000\n",
      "size of original test set: 20000\n",
      "****************************************************************************************************\n",
      "size of train set: 60000, #positive: 30055, #negative: 29945\n",
      "size of test set: 1000, #positive: 510, #negative: 490\n",
      "['it', 'will', 'help', 'relieve', 'your', 'stress', 'padtoken', 'padtoken', 'padtoken', 'padtoken', 'padtoken', 'padtoken', 'padtoken', 'padtoken', 'padtoken', 'padtoken', 'padtoken', 'padtoken', 'padtoken', 'padtoken']\n",
      "sentiment: positive\n"
     ]
    }
   ],
   "source": [
    "with open(\"./tweets_data/vocabulary.pkl\", \"rb\") as f:\n",
    "    vocabulary = pickle.load(f)\n",
    "\n",
    "# load our data and separate it into tweets and labels\n",
    "train_data = json.load(open('tweets_data/trainTweets_preprocessed.json', 'r'))\n",
    "train_data = list(map(lambda row:(np.array(row[0],dtype=np.int32),str(row[1])),train_data))\n",
    "train_tweets = np.array([t[0] for t in train_data])\n",
    "train_labels = np.array([int(t[1]) for t in train_data])\n",
    "\n",
    "test_data = json.load(open('tweets_data/testTweets_preprocessed.json', 'r'))\n",
    "test_data = list(map(lambda row:(np.array(row[0],dtype=np.int32),str(row[1])),test_data))\n",
    "test_tweets = np.array([t[0] for t in test_data])\n",
    "test_labels = np.array([int(t[1]) for t in test_data])\n",
    "\n",
    "print(\"size of original train set: {}\".format(len(train_tweets)))\n",
    "print(\"size of original test set: {}\".format(len(test_tweets)))\n",
    "\n",
    "# only select first 1000 test sample for test\n",
    "test_tweets = test_tweets[:1000]\n",
    "test_labels = test_labels[:1000]\n",
    "\n",
    "print(\"*\"*100)\n",
    "print(\"size of train set: {}, #positive: {}, #negative: {}\".format(len(train_tweets), np.sum(train_labels), len(train_tweets)-np.sum(train_labels)))\n",
    "print(\"size of test set: {}, #positive: {}, #negative: {}\".format(len(test_tweets), np.sum(test_labels), len(test_tweets)-np.sum(test_labels)))\n",
    "\n",
    "# show text of the idx-th train tweet\n",
    "# The 'padtoken' is used to ensure each tweet has the same length\n",
    "idx = 100\n",
    "train_text = [vocabulary[x] for x in train_tweets[idx]]\n",
    "print(train_text)\n",
    "sentiment_label = [\"negative\", \"positive\"]\n",
    "print(\"sentiment: {}\".format(sentiment_label[train_labels[idx]]))"
   ]
  },
  {
   "cell_type": "markdown",
   "metadata": {},
   "source": [
    "## Part 1: LSTM Encoder"
   ]
  },
  {
   "cell_type": "markdown",
   "metadata": {},
   "source": [
    "### train a single-layer lstm network\n",
    "\n",
    "First of all, we'll build a single-layer LSTM network for the analysis. The network structure is the following:\n",
    "\n",
    "![](./img/singleLSTM.png)\n",
    "\n",
    "<span style=\"color:red\">__TODO:__</span> Below, we've defined the network for you. Please read the code carefully to make sure you understand it. Then, please write a training function to train this network. The settings are:\n",
    "\n",
    "1. Train the network for 1000 iterations. In each iteration, use batch_size samples to train the network.\n",
    "2. For every 50 iterations, apply the network on the test set, and print out the test accuracy and mean loss.\n",
    "\n",
    "With these settings, what accuracy could you get? You can try to change some stuff in the network to see if you could get a better accuracy (this is optional)."
   ]
  },
  {
   "cell_type": "code",
   "execution_count": 22,
   "metadata": {
    "collapsed": true
   },
   "outputs": [],
   "source": [
    "# define a linear layer, y = x*w + b\n",
    "def linear(input_, output_size, name, init_bias=0.0):\n",
    "    shape = input_.get_shape().as_list()\n",
    "    with tf.variable_scope(name):\n",
    "        init = tf.truncated_normal([shape[-1], output_size], mean=0.0, stddev=1.0 / shape[-1]**0.5)\n",
    "        W = tf.get_variable(\"weight\", initializer=init)\n",
    "    if init_bias is None:\n",
    "        return tf.matmul(input_, W)\n",
    "    with tf.variable_scope(name):\n",
    "        b = tf.get_variable(\"bias\", [output_size], initializer=tf.constant_initializer(init_bias))\n",
    "    return tf.matmul(input_, W) + b"
   ]
  },
  {
   "cell_type": "code",
   "execution_count": 23,
   "metadata": {
    "collapsed": true
   },
   "outputs": [],
   "source": [
    "# set variables\n",
    "tweet_size = 20\n",
    "hidden_size = 100\n",
    "vocab_size = 7597\n",
    "batch_size = 64\n",
    "\n",
    "# this just makes sure that all our following operations will be placed in the right graph.\n",
    "tf.reset_default_graph()\n",
    "\n",
    "# make placeholders for data we'll feed in\n",
    "tweets = tf.placeholder(tf.int32, [None, tweet_size])\n",
    "labels = tf.placeholder(tf.float32, [None])\n",
    "\n",
    "tweets_onehot = tf.one_hot(tweets, depth=vocab_size, axis=-1)\n",
    "\n",
    "# define the lstm cell\n",
    "lstm_cell = tf.contrib.rnn.LSTMCell(hidden_size)\n",
    "\n",
    "# define the op that runs the LSTM, across time, on the data\n",
    "init_state = lstm_cell.zero_state(batch_size, tf.float32)\n",
    "outputs, final_state = tf.nn.dynamic_rnn(lstm_cell, tweets_onehot, initial_state=init_state, dtype=tf.float32)\n",
    "\n",
    "# define that our final sentiment logit is a linear function of the final state of the LSTM\n",
    "sentiment = linear(final_state[-1], 1, name=\"output\")\n",
    "\n",
    "# define cross entropy/sigmoid loss function\n",
    "sentiment = tf.squeeze(sentiment, [1])\n",
    "loss = tf.nn.sigmoid_cross_entropy_with_logits(logits=sentiment, labels=labels)\n",
    "loss = tf.reduce_mean(loss)\n",
    "\n",
    "# compute accuracy\n",
    "prob = tf.nn.sigmoid(sentiment)\n",
    "prediction = tf.to_float(tf.greater_equal(prob, 0.5))\n",
    "acc = tf.to_float(tf.equal(prediction, labels))\n",
    "acc = tf.reduce_mean(acc)\n",
    "\n",
    "# define optimizer\n",
    "trainer = tf.train.AdamOptimizer()\n",
    "gradients = trainer.compute_gradients(loss)\n",
    "gradients_clipped = [(tf.clip_by_value(t[0],-1,1),t[1]) for t in gradients]\n",
    "optimizer = trainer.apply_gradients(gradients_clipped)"
   ]
  },
  {
   "cell_type": "code",
   "execution_count": 24,
   "metadata": {
    "scrolled": false
   },
   "outputs": [
    {
     "name": "stdout",
     "output_type": "stream",
     "text": [
      "Iteration number :  0 Mean Loss:  0.693360686302  testing accuracy =  0.532291666667\n",
      "Iteration number :  50 Mean Loss:  0.68313164337  testing accuracy =  0.627083333333\n",
      "Iteration number :  100 Mean Loss:  0.643465700126  testing accuracy =  0.676041666667\n",
      "Iteration number :  150 Mean Loss:  0.617159659894  testing accuracy =  0.698958333333\n",
      "Iteration number :  200 Mean Loss:  0.60127362861  testing accuracy =  0.7125\n",
      "Iteration number :  250 Mean Loss:  0.590777170254  testing accuracy =  0.727083333333\n",
      "Iteration number :  300 Mean Loss:  0.584309775766  testing accuracy =  0.73125\n",
      "Iteration number :  350 Mean Loss:  0.576578340979  testing accuracy =  0.704166666667\n",
      "Iteration number :  400 Mean Loss:  0.568356958559  testing accuracy =  0.742708333333\n",
      "Iteration number :  450 Mean Loss:  0.564199525871  testing accuracy =  0.740625\n",
      "Iteration number :  500 Mean Loss:  0.560384570779  testing accuracy =  0.732291666667\n",
      "Iteration number :  550 Mean Loss:  0.557162492981  testing accuracy =  0.741666666667\n",
      "Iteration number :  600 Mean Loss:  0.55364167606  testing accuracy =  0.714583333333\n",
      "Iteration number :  650 Mean Loss:  0.549048202699  testing accuracy =  0.753125\n",
      "Iteration number :  700 Mean Loss:  0.546270627226  testing accuracy =  0.758333333333\n",
      "Iteration number :  750 Mean Loss:  0.543805311388  testing accuracy =  0.754166666667\n",
      "Iteration number :  800 Mean Loss:  0.541958345642  testing accuracy =  0.745833333333\n",
      "Iteration number :  850 Mean Loss:  0.539269450899  testing accuracy =  0.75\n",
      "Iteration number :  900 Mean Loss:  0.537060613042  testing accuracy =  0.747916666667\n"
     ]
    }
   ],
   "source": [
    "# Training function\n",
    "num_steps = train_tweets.shape[0]//batch_size\n",
    "mean_loss = 0\n",
    "tot_loss=0\n",
    "with tf.Session() as sess:\n",
    "    sess.run(tf.global_variables_initializer())\n",
    "    for step in range(num_steps):\n",
    "        \n",
    "        start = step*batch_size \n",
    "        end = start + batch_size\n",
    "\n",
    "        batch_tweet = train_tweets[start:end]\n",
    "        batch_label = train_labels[start:end]\n",
    "        # TODO: run the 'optimizer', 'loss', and 'acc' operations in the graph using the batch data\n",
    "        _, train_loss, train_acc = sess.run([optimizer,loss, acc],feed_dict={tweets:batch_tweet,labels:batch_label})\n",
    "        tot_loss+=train_loss\n",
    "        if (step % 50 == 0):\n",
    "            test_batches = test_tweets.shape[0] // batch_size\n",
    "            test_acc = 0\n",
    "            for i in range(test_batches):\n",
    "                l = i*batch_size\n",
    "                r = l + batch_size\n",
    "                test_X = test_tweets[l:r]\n",
    "                test_Y = test_labels[l:r]\n",
    "                test_acc += sess.run(acc,feed_dict= {tweets:test_X,labels:test_Y})\n",
    "                mean_loss=tot_loss/(step+1)\n",
    "            print(\"Iteration number : \",step, \" Mean Loss: \", mean_loss, \" testing accuracy = \",(test_acc/test_batches))\n",
    "            \n",
    "        #print(\"Mean Loss : \", mean_loss/1000)\n",
    "            "
   ]
  },
  {
   "cell_type": "markdown",
   "metadata": {},
   "source": [
    "### train a two-layer lstm network\n",
    "\n",
    "Next, we look at a slightly more difficult network structure: a double-layer LSTM. The output of the first LSTM cell is propagated to the second LSTM cell. We only need to make small modifications to the previous network to construct this one.\n",
    "\n",
    "![](./img/doubleLSTM.png)\n",
    "\n",
    "<span style=\"color:red\">__TODO:__</span> Define this double-layer LSTM in the below notebook cell. You can copy the single-layer network code and make changes to it. After that, train the network using the function you just wrote.\n",
    "\n",
    "Hint: Use **tf.contrib.rnn.MultiRNNCell**. You'll find there are only 2-3 lines of code that need to be changed."
   ]
  },
  {
   "cell_type": "code",
   "execution_count": 27,
   "metadata": {
    "collapsed": true
   },
   "outputs": [],
   "source": [
    "# YOUR DOUBLE-LAYER LSTM Here\n",
    "tweet_size = 20\n",
    "hidden_size = 100\n",
    "vocab_size = 7597\n",
    "batch_size = 64\n",
    "num_layers = 2\n",
    "\n",
    "\n",
    "# this just makes sure that all our following operations will be placed in the right graph.\n",
    "tf.reset_default_graph()\n",
    "\n",
    "# make placeholders for data we'll feed in\n",
    "tweets = tf.placeholder(tf.int32, [None, tweet_size])\n",
    "labels = tf.placeholder(tf.float32, [None])\n",
    "\n",
    "tweets_onehot = tf.one_hot(tweets, depth=vocab_size, axis=-1)\n",
    "\n",
    "# define the lstm cell\n",
    "# lstm_cell = tf.contrib.rnn.LSTMCell(hidden_size)\n",
    "lstm_cell = tf.contrib.rnn.MultiRNNCell([tf.contrib.rnn.LSTMCell(hidden_size) for i in range(num_layers)])\n",
    "\n",
    "# define the op that runs the LSTM, across time, on the data\n",
    "init_state = lstm_cell.zero_state(batch_size, tf.float32)\n",
    "outputs, final_state = tf.nn.dynamic_rnn(lstm_cell, tweets_onehot, initial_state=init_state, dtype=tf.float32)\n",
    "\n",
    "# define that our final sentiment logit is a linear function of the final state of the LSTM\n",
    "sentiment = linear(final_state[-1][-1], 1, name=\"output\")\n",
    "\n",
    "# define cross entropy/sigmoid loss function\n",
    "sentiment = tf.squeeze(sentiment, [1])\n",
    "loss = tf.nn.sigmoid_cross_entropy_with_logits(logits=sentiment, labels=labels)\n",
    "loss = tf.reduce_mean(loss)\n",
    "\n",
    "# compute accuracy\n",
    "prob = tf.nn.sigmoid(sentiment)\n",
    "prediction = tf.to_float(tf.greater_equal(prob, 0.5))\n",
    "acc = tf.to_float(tf.equal(prediction, labels))\n",
    "acc = tf.reduce_mean(acc)\n",
    "\n",
    "# define optimizer\n",
    "trainer = tf.train.AdamOptimizer()\n",
    "gradients = trainer.compute_gradients(loss)\n",
    "gradients_clipped = [(tf.clip_by_value(t[0],-1,1),t[1]) for t in gradients]\n",
    "optimizer = trainer.apply_gradients(gradients_clipped)\n"
   ]
  },
  {
   "cell_type": "code",
   "execution_count": 26,
   "metadata": {},
   "outputs": [
    {
     "name": "stdout",
     "output_type": "stream",
     "text": [
      "Iteration Number:  0  Mean Loss:  0.69279718399  Test Accuracy =  0.552083333333\n",
      "Iteration Number:  50  Mean Loss:  0.664740937598  Test Accuracy =  0.644791666667\n",
      "Iteration Number:  100  Mean Loss:  0.63041769514  Test Accuracy =  0.68125\n",
      "Iteration Number:  150  Mean Loss:  0.605996398539  Test Accuracy =  0.704166666667\n",
      "Iteration Number:  200  Mean Loss:  0.59195337085  Test Accuracy =  0.723958333333\n",
      "Iteration Number:  250  Mean Loss:  0.582227251919  Test Accuracy =  0.738541666667\n",
      "Iteration Number:  300  Mean Loss:  0.576615548906  Test Accuracy =  0.746875\n",
      "Iteration Number:  350  Mean Loss:  0.569018911772  Test Accuracy =  0.733333333333\n",
      "Iteration Number:  400  Mean Loss:  0.561159860686  Test Accuracy =  0.753125\n",
      "Iteration Number:  450  Mean Loss:  0.556766644748  Test Accuracy =  0.738541666667\n",
      "Iteration Number:  500  Mean Loss:  0.553454817234  Test Accuracy =  0.744791666667\n",
      "Iteration Number:  550  Mean Loss:  0.550589983833  Test Accuracy =  0.748958333333\n",
      "Iteration Number:  600  Mean Loss:  0.547579959704  Test Accuracy =  0.735416666667\n",
      "Iteration Number:  650  Mean Loss:  0.543090485345  Test Accuracy =  0.759375\n",
      "Iteration Number:  700  Mean Loss:  0.540428184451  Test Accuracy =  0.767708333333\n",
      "Iteration Number:  750  Mean Loss:  0.538094063454  Test Accuracy =  0.760416666667\n",
      "Iteration Number:  800  Mean Loss:  0.536361148034  Test Accuracy =  0.755208333333\n",
      "Iteration Number:  850  Mean Loss:  0.533854179776  Test Accuracy =  0.75\n",
      "Iteration Number:  900  Mean Loss:  0.531676539603  Test Accuracy =  0.745833333333\n"
     ]
    }
   ],
   "source": [
    "# YOUR TRAINING HERE\n",
    "num_steps = train_tweets.shape[0]//batch_size\n",
    "tot_loss = 0\n",
    "mean_loss = 0\n",
    "\n",
    "with tf.Session() as sess:\n",
    "    sess.run(tf.global_variables_initializer())\n",
    "    for step in range(num_steps):\n",
    "        \n",
    "        start = step*batch_size\n",
    "        end = start + batch_size\n",
    "                \n",
    "        batch_tweet = train_tweets[start:end]\n",
    "        batch_label = train_labels[start:end]\n",
    "        # TODO: run the 'optimizer', 'loss', and 'acc' operations in the graph using the batch data\n",
    "        _, train_loss, train_acc = sess.run([optimizer,loss, acc],feed_dict={tweets:batch_tweet,labels:batch_label})\n",
    "        tot_loss += train_loss\n",
    "        if (step % 50 == 0):\n",
    "            test_batches = test_tweets.shape[0] // batch_size\n",
    "            test_acc = 0\n",
    "            for i in range(test_batches):\n",
    "                l = i*batch_size\n",
    "                r = l + batch_size\n",
    "                test_X = test_tweets[l:r]\n",
    "                test_Y = test_labels[l:r]\n",
    "                test_acc += sess.run(acc,feed_dict= {tweets:test_X,labels:test_Y})\n",
    "                mean_loss=tot_loss/(step+1)\n",
    "            print(\"Iteration Number: \",step, \" Mean Loss: \", mean_loss, \" Test Accuracy = \",(test_acc/test_batches))"
   ]
  },
  {
   "cell_type": "markdown",
   "metadata": {},
   "source": [
    "## Part 2: Embedding Lookup layer\n",
    "\n",
    "![](./img/embedding.png)"
   ]
  },
  {
   "cell_type": "markdown",
   "metadata": {},
   "source": [
    "###  Define an embedding layer\n",
    "\n",
    "It's not hard to imagine in the previous practices, the input we fed in are very sparse because each word was represented as a one-hot vector. This makes it difficult for the network to understand what story the input data is telling. \n",
    "\n",
    "Word embedding: instead of using a one-hot vector to represent each word, we can add an word embedding matrix in which each word is represented as a low-dimensional vector. Note that this representation is not sparse any more, because we're working in a continuous vector space now. Words that share similar/related semantic meaning should be 'close to each other' in this vector space (we could define a distance measure to estimate the closeness). \n",
    "\n",
    "[https://www.tensorflow.org/tutorials/word2vec](https://www.tensorflow.org/tutorials/word2vec)\n",
    "\n",
    "<span style=\"color:red\">__TODO:__</span> Take a look at the website above, and write a function to do the embedding. The website itself is a very good tutorial.\n",
    "\n",
    "Hint: Use **tf.nn.embedding_lookup**"
   ]
  },
  {
   "cell_type": "code",
   "execution_count": 30,
   "metadata": {
    "collapsed": true
   },
   "outputs": [],
   "source": [
    "def embedding(input_, vocab_size, output_size, name):\n",
    "    \"\"\"\n",
    "    1. Define an embedding matrix\n",
    "    2. return both the lookup results and the embedding matrix.\n",
    "    \"\"\"\n",
    "    embedding_mat = tf.Variable(tf.random_uniform([vocab_size, output_size], -1.0, 1.0),name = name)\n",
    "    embed_lookup = tf.nn.embedding_lookup(embedding_mat, input_)\n",
    "    return embedding_mat,embed_lookup\n",
    "# YOUR CODE HERE"
   ]
  },
  {
   "cell_type": "markdown",
   "metadata": {},
   "source": [
    "### Train a single lstm network with embedding layer\n",
    "\n",
    "<span style=\"color:red\">__TODO:__</span> Build a single-layer LSTM network according to the network structure. Then, train the network with the training function you wrote."
   ]
  },
  {
   "cell_type": "code",
   "execution_count": 31,
   "metadata": {
    "collapsed": true
   },
   "outputs": [],
   "source": [
    "# YOUR EMBEDDING SINGLE-LAYER LSTM HERE\n",
    "tweet_size = 20\n",
    "hidden_size = 100\n",
    "vocab_size = 7597\n",
    "batch_size = 64\n",
    "output_size = 150\n",
    "\n",
    "\n",
    "# this just makes sure that all our following operations will be placed in the right graph.\n",
    "tf.reset_default_graph()\n",
    "\n",
    "# make placeholders for data we'll feed in\n",
    "tweets = tf.placeholder(tf.int32, [None, tweet_size])\n",
    "labels = tf.placeholder(tf.float32, [None])\n",
    "\n",
    "embedding_mat, lookup = embedding(tweets,vocab_size,output_size,'embedding_mat')\n",
    "\n",
    "# define the lstm cell\n",
    "lstm_cell = tf.contrib.rnn.LSTMCell(hidden_size)\n",
    "\n",
    "# define the op that runs the LSTM, across time, on the data\n",
    "init_state = lstm_cell.zero_state(batch_size, tf.float32)\n",
    "outputs, final_state = tf.nn.dynamic_rnn(lstm_cell, lookup, initial_state=init_state, dtype=tf.float32)\n",
    "\n",
    "# define that our final sentiment logit is a linear function of the final state of the LSTM\n",
    "sentiment = linear(final_state[-1], 1, name=\"output\")\n",
    "\n",
    "# define cross entropy/sigmoid loss function\n",
    "sentiment = tf.squeeze(sentiment, [1])\n",
    "loss = tf.nn.sigmoid_cross_entropy_with_logits(logits=sentiment, labels=labels)\n",
    "loss = tf.reduce_mean(loss)\n",
    "\n",
    "# compute accuracy\n",
    "prob = tf.nn.sigmoid(sentiment)\n",
    "prediction = tf.to_float(tf.greater_equal(prob, 0.5))\n",
    "acc = tf.to_float(tf.equal(prediction, labels))\n",
    "acc = tf.reduce_mean(acc)\n",
    "\n",
    "# define optimizer\n",
    "trainer = tf.train.AdamOptimizer()\n",
    "gradients = trainer.compute_gradients(loss)\n",
    "gradients_clipped = [(tf.clip_by_value(t[0],-1,1),t[1]) for t in gradients]\n",
    "optimizer = trainer.apply_gradients(gradients_clipped)"
   ]
  },
  {
   "cell_type": "code",
   "execution_count": 32,
   "metadata": {},
   "outputs": [
    {
     "name": "stdout",
     "output_type": "stream",
     "text": [
      "Iteration number:  0  Mean Loss: 0.706552147865  test accuracy =  0.532291666667\n",
      "Iteration number:  50  Mean Loss: 0.693815140163  test accuracy =  0.565625\n",
      "Iteration number:  100  Mean Loss: 0.691397750732  test accuracy =  0.575\n",
      "Iteration number:  150  Mean Loss: 0.681914166504  test accuracy =  0.633333333333\n",
      "Iteration number:  200  Mean Loss: 0.668290365988  test accuracy =  0.676041666667\n",
      "Iteration number:  250  Mean Loss: 0.65675956652  test accuracy =  0.670833333333\n",
      "Iteration number:  300  Mean Loss: 0.648023337423  test accuracy =  0.703125\n",
      "Iteration number:  350  Mean Loss: 0.635689856235  test accuracy =  0.698958333333\n",
      "Iteration number:  400  Mean Loss: 0.625751283549  test accuracy =  0.705208333333\n",
      "Iteration number:  450  Mean Loss: 0.61731521326  test accuracy =  0.725\n",
      "Iteration number:  500  Mean Loss: 0.610176857063  test accuracy =  0.735416666667\n",
      "Iteration number:  550  Mean Loss: 0.604033557073  test accuracy =  0.747916666667\n",
      "Iteration number:  600  Mean Loss: 0.597428284003  test accuracy =  0.736458333333\n",
      "Iteration number:  650  Mean Loss: 0.590581273108  test accuracy =  0.751041666667\n",
      "Iteration number:  700  Mean Loss: 0.585789909121  test accuracy =  0.75\n",
      "Iteration number:  750  Mean Loss: 0.581119605649  test accuracy =  0.744791666667\n",
      "Iteration number:  800  Mean Loss: 0.577244233214  test accuracy =  0.73125\n",
      "Iteration number:  850  Mean Loss: 0.573112125542  test accuracy =  0.753125\n",
      "Iteration number:  900  Mean Loss: 0.569452793299  test accuracy =  0.758333333333\n"
     ]
    }
   ],
   "source": [
    "# YOUR TRAINING HERE\n",
    "num_steps = train_tweets.shape[0] // batch_size\n",
    "tot_loss = 0\n",
    "mean_loss = 0\n",
    "\n",
    "\n",
    "with tf.Session() as sess:\n",
    "    sess.run(tf.global_variables_initializer())\n",
    "    for step in range(num_steps):\n",
    "        \n",
    "        start_idx = step*batch_size\n",
    "        end_idx = start_idx + batch_size\n",
    "        \n",
    "\n",
    "        batchX = train_tweets[start_idx:end_idx]\n",
    "        batchY = train_labels[start_idx:end_idx]\n",
    "        # TODO: run the 'optimizer', 'loss', and 'acc' operations in the graph using the batch data\n",
    "        _, train_loss, train_acc = sess.run([optimizer,loss, acc],feed_dict= \\\n",
    "                                                {tweets:batchX,labels:batchY})\n",
    "        tot_loss += train_loss\n",
    "\n",
    "        if (step % 50 == 0):\n",
    "            test_batches = test_tweets.shape[0] // batch_size\n",
    "            test_acc = 0\n",
    "            for i in range(test_batches):\n",
    "                idx1 = i*batch_size\n",
    "                idx2 = idx1 + batch_size\n",
    "                test_X = test_tweets[idx1:idx2]\n",
    "                test_Y = test_labels[idx1:idx2]\n",
    "                test_acc += sess.run(acc,feed_dict= {tweets:test_X,labels:test_Y})\n",
    "                mean_loss = tot_loss/(step + 1)\n",
    "            print(\"Iteration number: \",step, \" Mean Loss:\", mean_loss, \" test accuracy = \",(test_acc/test_batches))\n",
    "            # TODO: get test accuracy and loss, and print them out.\n",
    "    vocab_embeddings = sess.run(embedding_mat)"
   ]
  },
  {
   "cell_type": "markdown",
   "metadata": {},
   "source": [
    "### Visualize word vectors via tSNE\n",
    "\n",
    "<span style=\"color:red\">__TODO:__</span>\n",
    "\n",
    "First, you need to retrieve **embedding matrix** from the network. Then use tSNE to reduce each low-dimensional word vector into a 2D vector. \n",
    "\n",
    "And then, you should visualize some interesting word pairs in 2D panel. You may find **scatter** function in **matplotlib.pyplot** useful.\n",
    "\n",
    "\n",
    "Hint: You can use **TSNE** tool provided in **scikit-learn**. And if you encounter dead kernel problem caused by \"Intel MKL FATAL ERROR: Cannot load libmkl_avx.so or libmkl_def.so\", please reinstall scikit-learn without MKL, ie., **conda install nomkl numpy scipy scikit-learn numexpr**. \n",
    "\n",
    "Here we provide some word pairs for you, like female-male or country-capital. And you can observe that these word-pair will look parallel with each other in a 2D tSNE panel. And you can find some other words and explore their relationship.\n",
    "\n",
    "The result for female-male pairs should look like, and you will observe that king-men and queen-women are parallel to each other in a 2D panel.\n",
    "\n",
    "\n",
    "![](./img/tsne_female_male.png)"
   ]
  },
  {
   "cell_type": "code",
   "execution_count": 33,
   "metadata": {},
   "outputs": [
    {
     "data": {
      "text/plain": [
       "(7597, 150)"
      ]
     },
     "execution_count": 33,
     "metadata": {},
     "output_type": "execute_result"
    }
   ],
   "source": [
    "female_male = [\"men\", \"women\", \"king\", \"queen\"]\n",
    "country_capital = [\"spain\", \"madrid\", \"italy\", \"rome\", \"japan\", \"tokyo\"]\n",
    "#fruit_clour = [\"apple\", \"red\", \"lemon\", \"yellow\", \"mandarin\", \"orange\"]\n",
    "\n",
    "vocab_embeddings.shape"
   ]
  },
  {
   "cell_type": "code",
   "execution_count": 34,
   "metadata": {},
   "outputs": [
    {
     "data": {
      "text/plain": [
       "(7597, 2)"
      ]
     },
     "execution_count": 34,
     "metadata": {},
     "output_type": "execute_result"
    }
   ],
   "source": [
    "from sklearn.manifold import TSNE\n",
    "### your code here\n",
    "X_embedded = TSNE( n_components=2, init='pca', n_iter=1000, random_state=10).fit_transform(vocab_embeddings)\n",
    "X_embedded.shape"
   ]
  },
  {
   "cell_type": "code",
   "execution_count": 35,
   "metadata": {},
   "outputs": [
    {
     "data": {
      "image/png": "[encoded data removed]",
      "text/plain": [
       "<matplotlib.figure.Figure at 0x7f25086ff550>"
      ]
     },
     "metadata": {},
     "output_type": "display_data"
    }
   ],
   "source": [
    "import matplotlib.pyplot as plt\n",
    "%matplotlib inline\n",
    "\n",
    "def wordvec(vocab,words):\n",
    "    idx = [np.where(vocab==a) for a in words]\n",
    "    res = []\n",
    "    for i in range(len(idx)):\n",
    "        res.append(idx[i][0][0])\n",
    "    return res\n",
    "X = X_embedded[wordvec(vocabulary,female_male)]\n",
    "\n",
    "plt.scatter(X[:,0],X[:,1])\n",
    "\n",
    "for i, txt in enumerate(female_male):\n",
    "    plt.annotate(txt, (X[i,0],X[i,1]))\n",
    "plt.show()\n",
    "\n"
   ]
  },
  {
   "cell_type": "code",
   "execution_count": 36,
   "metadata": {},
   "outputs": [
    {
     "data": {
      "image/png": "[encoded data removed]",
      "text/plain": [
       "<matplotlib.figure.Figure at 0x7f2508275668>"
      ]
     },
     "metadata": {},
     "output_type": "display_data"
    }
   ],
   "source": [
    "X = X_embedded[wordvec(vocabulary,country_capital)]\n",
    "\n",
    "plt.scatter(X[:,0],X[:,1])\n",
    "\n",
    "for i, txt in enumerate(country_capital):\n",
    "    plt.annotate(txt, (X[i,0],X[i,1]))\n",
    "plt.show()"
   ]
  },
  {
   "cell_type": "markdown",
   "metadata": {},
   "source": [
    "#### <span style=\"color:red\">TODO: </span> describe your observation of these word vectors\n",
    "\n",
    "Answer: **The vector from king to men is roughly parallel to the vector from queen to women. Same is true for the vectors from italy to rome and japan to tokyo. However, the spain-madrid vector seems to be randomly oriented **"
   ]
  },
  {
   "cell_type": "code",
   "execution_count": null,
   "metadata": {
    "collapsed": true
   },
   "outputs": [],
   "source": []
  }
 ],
 "metadata": {
  "kernelspec": {
   "display_name": "Python 3",
   "language": "python",
   "name": "python3"
  },
  "language_info": {
   "codemirror_mode": {
    "name": "ipython",
    "version": 3
   },
   "file_extension": ".py",
   "mimetype": "text/x-python",
   "name": "python",
   "nbconvert_exporter": "python",
   "pygments_lexer": "ipython3",
   "version": "3.6.1"
  }
 },
 "nbformat": 4,
 "nbformat_minor": 2
}
