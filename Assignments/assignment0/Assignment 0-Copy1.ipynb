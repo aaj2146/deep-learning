{
 "cells": [
  {
   "cell_type": "markdown",
   "metadata": {},
   "source": [
    "# ECBM E4040 - Assignment 0"
   ]
  },
  {
   "cell_type": "markdown",
   "metadata": {},
   "source": [
    "Welcome to ECBM E4040 Neural Networks & Deep Learning. \n",
    "\n",
    "Deep learning is very popular nowadays both in academia and in industry. In this course, we'll teach you the concepts of neural networks, and how to program your own neural network. \n",
    "\n",
    "The __assignment 0__ is meant to help you get accustomed to the programming environment we use for this course. It consists of 4 parts:\n",
    "* Programming environment setup - Google Compute Engine/local machine, Python, TensorFlow.\n",
    "* How to use Jupyter Notebook\n",
    "* TensorFlow 101\n",
    "* A demo of TensorFlow program\n",
    "\n",
    "<p style='color:red'>The things marked with <strong>'TODO'</strong> requires you to finish. They may also appear in code comments, so please be careful not to miss any.</p>\n",
    "\n",
    "If you have trouble, feel free to contact TAs or post your problem on Piazza.\n",
    "\n",
    "Good luck!"
   ]
  },
  {
   "cell_type": "markdown",
   "metadata": {},
   "source": [
    "## Part 1 - Environment setup\n",
    "\n",
    "For the course, we use __Python__ as our programming language, and [__TensorFlow__](https://www.tensorflow.org) as the deep learning framework. Before we start having fun with deep learning, we need to equip ourselves with some knowledge.\n",
    "\n",
    "Our [course website](https://ecbm4040.bitbucket.io) provides a number of tutorials including:\n",
    "1. Python tutorial\n",
    "2. Google Compute Engine setup\n",
    "3. Local environment setup\n",
    "4. Linux tutorial\n",
    "5. Git commands\n",
    "6. TensorFlow tutorial\n",
    "\n",
    "__TODO:__ \n",
    "1. Follow the 2nd tutorial to set up your Google Compute Engine VM instance. __This is required for everyone__. \n",
    "2. Follow the 3rd tutorial to set up your local deep learning environemnt. Since using Google Cloud cost you money, we recommend that you debug your code locally and run it remotely.\n",
    "3. Depending on your understanding of Python, Linux, Git and TensorFlow, the rest tutorials are optional.\n",
    "\n",
    "You may encounter various problems in this part. Don't hesitate to ask for help.\n",
    "\n",
    "After you set up your environment, clone the assignment repo to your VM instance and start working."
   ]
  },
  {
   "cell_type": "markdown",
   "metadata": {},
   "source": [
    "## Part 2 - How to use Jupyter Notebook\n",
    "\n",
    "Jupyter Notebook is an interactive Python programming interface. Jupyter Notebook files have a postfix _.ipynb_, and each file is made up of several blocks of code, which we call __cells__. Each cell can be configured as __coding cell__ or __Markdown text cell__. \n",
    "\n",
    "A few basic instructions:\n",
    "\n",
    "* The menu bars are located on the top of a notebook.\n",
    "* To execute a cell, select it, and press `ctrl+Enter`. (You may also try `shift+Enter` and `alt+Enter` to see the difference).\n",
    "* To switch between code and Markdown, select a cell, and select the mode you want in the dropdown menu in the menu bar.\n",
    "\n",
    "A full guide to Jupyter Notebook can be accessed in the _Help_ menu in the menu bar.\n"
   ]
  },
  {
   "cell_type": "code",
   "execution_count": 4,
   "metadata": {},
   "outputs": [
    {
     "name": "stdout",
     "output_type": "stream",
     "text": [
      "Hello Jupyter!\n"
     ]
    }
   ],
   "source": [
    "# TODO: to test that you've understood how to use it, make this cell output a string 'Hello Jpuyter!'. \n",
    "# We've written the code, all you need to do is to execute it.\n",
    "print('Hello Jupyter!')"
   ]
  },
  {
   "cell_type": "markdown",
   "metadata": {},
   "source": [
    "## Part 3 - TensorFlow 101\n",
    "\n",
    "TensorFlow is one of the most popular deep learning frameworks now in the world. Originally created by Google, it has received a lot of community support. In this part, we're going to look at some basic TensorFlow concepts and operations, so that you can start playing with it.\n",
    "\n",
    "#### Tow-phase program\n",
    "\n",
    "There are 2 stages of using TensorFlow to create a program. First, we need to __assemle a computation graph__; Then, we use a __session__ to execute operations in that graph. All the operations that you define will not be run until a session is created. This is something like defining a function and use it later. \n",
    "\n",
    "#### The graph\n",
    "The computation graph is a very important concept of TensorFlow. Modern neural networks are usually very complex, and the relations between variables can be hard to catch. In a computation graph, every opearation that you define is recorded as a node. An edge between 2 nodes means data will be exchanged between them. With __TensorBoard__, you can even visualize the graph you've created so far (will be covered later). \n",
    "\n",
    "That's why in TensorFlow, we need to first assemble such a graph, make sure everything is correct, and then execute it. \n",
    "\n",
    "#### High-level APIs\n",
    "There are some other deep learning APIs built upon TensorFlow, providing easy access to users. A typical example is Keras, with which one can write one-line deep learning programs. __Note__: For the course we __prohibit__ the use of other high-level APIs. TensorFlow itself has a good API called TF Learn (tf.contrib.learn). We encourage you to use low-level opeartions and keep away from TF Learn.\n",
    "\n",
    "That's it. Now we proceed to the actual coding!"
   ]
  },
  {
   "cell_type": "code",
   "execution_count": 2,
   "metadata": {},
   "outputs": [
    {
     "ename": "ModuleNotFoundError",
     "evalue": "No module named 'tensorflow'",
     "output_type": "error",
     "traceback": [
      "\u001b[0;31m---------------------------------------------------------------------------\u001b[0m",
      "\u001b[0;31mModuleNotFoundError\u001b[0m                       Traceback (most recent call last)",
      "\u001b[0;32m<ipython-input-2-aef4a666d9db>\u001b[0m in \u001b[0;36m<module>\u001b[0;34m()\u001b[0m\n\u001b[1;32m      1\u001b[0m \u001b[0;31m# Import the TensorFlow module\u001b[0m\u001b[0;34m\u001b[0m\u001b[0;34m\u001b[0m\u001b[0m\n\u001b[0;32m----> 2\u001b[0;31m \u001b[0;32mimport\u001b[0m \u001b[0mtensorflow\u001b[0m \u001b[0;32mas\u001b[0m \u001b[0mtf\u001b[0m\u001b[0;34m\u001b[0m\u001b[0m\n\u001b[0m\u001b[1;32m      3\u001b[0m \u001b[0;31m# The following modules will be used in Part 3 and 4\u001b[0m\u001b[0;34m\u001b[0m\u001b[0;34m\u001b[0m\u001b[0m\n\u001b[1;32m      4\u001b[0m \u001b[0;31m# Maker sure you install the latest version of numpy and matploblib.\u001b[0m\u001b[0;34m\u001b[0m\u001b[0;34m\u001b[0m\u001b[0m\n\u001b[1;32m      5\u001b[0m \u001b[0;31m# If not, try \"conda install numpy\" and \"conda install matploblib\" in the console (the one that you use to control your VM),\u001b[0m\u001b[0;34m\u001b[0m\u001b[0;34m\u001b[0m\u001b[0m\n",
      "\u001b[0;31mModuleNotFoundError\u001b[0m: No module named 'tensorflow'"
     ]
    }
   ],
   "source": [
    "# Import the TensorFlow module\n",
    "import tensorflow as tf\n",
    "# The following modules will be used in Part 3 and 4\n",
    "# Maker sure you install the latest version of numpy and matploblib.\n",
    "# If not, try \"conda install numpy\" and \"conda install matploblib\" in the console (the one that you use to control your VM),\n",
    "# And restart the notebook. \n",
    "import numpy as np\n",
    "from tensorflow.examples.tutorials.mnist import input_data\n",
    "%matplotlib inline\n",
    "from matplotlib import pyplot as plt\n",
    "import time"
   ]
  },
  {
   "cell_type": "code",
   "execution_count": 6,
   "metadata": {},
   "outputs": [
    {
     "name": "stdout",
     "output_type": "stream",
     "text": [
      "b'Hello TensorFlow!'\n",
      "b'Hello TensorFlow!'\n"
     ]
    }
   ],
   "source": [
    "# 1. Use of session\n",
    "\n",
    "# By TensorFlow official website, \"A Session instance encapsulates the environment in which Operations\n",
    "#  in a Graph are executed to compute Tensors.\" In short, this is where the computation happens.\n",
    "\n",
    "# Define a string constant\n",
    "string = tf.constant('Hello TensorFlow!')\n",
    "\n",
    "# There are 2 ways of using a session. First one:\n",
    "sess = tf.Session()\n",
    "print(sess.run(string))\n",
    "sess.close()\n",
    "\n",
    "# Second one:\n",
    "with tf.Session() as sess:\n",
    "    print(sess.run(string))\n",
    "    \n",
    "# The session doesn't close automatically, so you need to do it manually, otherwise you'll have resource error sometimes.\n",
    "# We recommend the second way because we sometimes forget to put sess.close() at the end of our program."
   ]
  },
  {
   "cell_type": "code",
   "execution_count": 14,
   "metadata": {},
   "outputs": [
    {
     "name": "stdout",
     "output_type": "stream",
     "text": [
      "b'Aditya Jadhav : aaj2146'\n",
      "b'Aditya Jadhav : aaj2146'\n"
     ]
    }
   ],
   "source": [
    "# TODO: Follow the example above, use TensorFlow to output the string 'YOUR_NAME:YOUR_UNI'. \n",
    "\n",
    "# YOUR CODE HERE\n",
    "\n",
    "uni_string = tf.constant('Aditya Jadhav : aaj2146')\n",
    "sesso = tf.Session()\n",
    "print(sesso.run(uni_string))\n",
    "sesso.close()\n",
    "\n",
    "with tf.Session() as sess:\n",
    "    print(sess.run(uni_string))\n",
    "    \n",
    "    "
   ]
  },
  {
   "cell_type": "code",
   "execution_count": 15,
   "metadata": {},
   "outputs": [
    {
     "name": "stdout",
     "output_type": "stream",
     "text": [
      "[7.0, 10.0, 17.0, -3.0, 70.0, 0.69999999, 2.8247523e+08, 1.9459102]\n"
     ]
    }
   ],
   "source": [
    "# 2. Basic math\n",
    "\n",
    "# Define 2 constant nodes. It is a good habit to name your nodes. The name appears in the TensorBoard graph.\n",
    "a = tf.constant(7, dtype=tf.float32, name='a')\n",
    "b = tf.constant(10, dtype=tf.float32, name='b')\n",
    "\n",
    "# Addition and subtraction\n",
    "add = tf.add(a, b, name='add') # same as a+b\n",
    "sub = tf.subtract(a, b, name='sub') # same as a-b\n",
    "\n",
    "# Multiplication and division\n",
    "mul = tf.multiply(a, b, name='mul') # same as a*b\n",
    "div = tf.divide(a, b, name='div') # same as a/b\n",
    "\n",
    "# Power and logarithm\n",
    "power = tf.pow(a, b, name='pow') # same as a^b\n",
    "log = tf.log(a, name='log') # same as log(a)\n",
    "\n",
    "# Launch the session to run these operations\n",
    "with tf.Session() as sess:\n",
    "    print(sess.run([a,b,add,sub,mul,div,power,log])) # Use a list to include all the nodes you want to execute"
   ]
  },
  {
   "cell_type": "code",
   "execution_count": 17,
   "metadata": {},
   "outputs": [
    {
     "name": "stdout",
     "output_type": "stream",
     "text": [
      "[-69.0, 69.0, 1.0806393e-30, 7.0]\n"
     ]
    }
   ],
   "source": [
    "# TODO: Visit https://www.tensorflow.org/api_guides/python/math_ops, choose any 3 math ops we didn't introduce,\n",
    "# and demonstrate their uses by outputing their results in a session.\n",
    "\n",
    "# YOUR CODE HERE\n",
    "c = tf.constant(-69, dtype=tf.float32, name = 'c')\n",
    "\n",
    "negative = tf.negative(c, name = 'negative')\n",
    "\n",
    "exp = tf.exp(c, name = 'exp')\n",
    "\n",
    "max = tf.maximum(a,c,name = 'max')\n",
    "\n",
    "with tf.Session() as sess:\n",
    "    print(sess.run([c,negative,exp,max])) # Use a list to include all the nodes you want to execute"
   ]
  },
  {
   "cell_type": "code",
   "execution_count": 25,
   "metadata": {},
   "outputs": [
    {
     "name": "stdout",
     "output_type": "stream",
     "text": [
      "0 array: [[ 0.  0.  0.]\n",
      " [ 0.  0.  0.]]\n",
      "1 array: [[ 1.  1.  1.]\n",
      " [ 1.  1.  1.]]\n",
      "0 inferred: [[ 0.  0.  0.]\n",
      " [ 0.  0.  0.]]\n",
      "1 inferred: [[ 1.  1.  1.]\n",
      " [ 1.  1.  1.]]\n",
      "linear sequence: [ 0.    1.25  2.5   3.75  5.  ]\n",
      "range:  [0 1 2 3 4 5 6]\n",
      "Random normal: [ 1.65764773  2.71678591  4.24066782  2.60239172  3.26045442]\n"
     ]
    }
   ],
   "source": [
    "# 3. Constant tensor, sequences and random numbers\n",
    "# In TensorFlow, a tensor is an n-dimensional array. 0-d tensor is a scalar. 1-d tensor is a vector, and so on.\n",
    "\n",
    "# We can use TF functions to create all-zero and all-one tensors.\n",
    "zero_array = tf.zeros(shape=[2,3], dtype=tf.float32, name='zero_array')\n",
    "one_array = tf.ones(shape=[2,3], dtype=tf.float32, name='one_array')\n",
    "\n",
    "# Or use a template to infer the shape.\n",
    "template = tf.constant([[1,2,3],[4,5,6]], dtype=tf.float32, name='template') # Has [2,3] shape\n",
    "zero_like = tf.zeros_like(template, name='zero_like')\n",
    "one_like = tf.ones_like(template, name='one_like')\n",
    "\n",
    "# Some sequence generating functions\n",
    "lin_seq = tf.linspace(start=0.0, stop=5.0, num=5, name='lin_seq')\n",
    "lin_range = tf.range(start=0, limit=7, delta=1, name='lin_range')\n",
    "\n",
    "# A random number function\n",
    "norm = tf.random_normal(shape=[5], mean=3, stddev=2.0)\n",
    "\n",
    "# Launch the session to run these operations:\n",
    "with tf.Session() as sess:\n",
    "    print('0 array:', sess.run(zero_array))\n",
    "    print('1 array:', sess.run(one_array))\n",
    "    print('0 inferred:', sess.run(zero_like))\n",
    "    print('1 inferred:', sess.run(one_like))\n",
    "    print('linear sequence:', sess.run(lin_seq))\n",
    "    print('range: ', sess.run(lin_range))\n",
    "    print('Random normal:', sess.run(norm))"
   ]
  },
  {
   "cell_type": "code",
   "execution_count": 34,
   "metadata": {},
   "outputs": [
    {
     "name": "stdout",
     "output_type": "stream",
     "text": [
      "5x5 matrix with all 9s: \n",
      " [[ 9.  9.  9.  9.  9.]\n",
      " [ 9.  9.  9.  9.  9.]\n",
      " [ 9.  9.  9.  9.  9.]\n",
      " [ 9.  9.  9.  9.  9.]\n",
      " [ 9.  9.  9.  9.  9.]]\n",
      "5x5 matrix with N(69,2): \n",
      " [[ 67.09274292  69.14293671  68.65869904  69.03109741  66.54358673]\n",
      " [ 70.20856476  68.26171112  69.66033173  69.57710266  70.99246979]\n",
      " [ 69.27497101  64.73575592  69.01959229  70.4549408   68.45420837]\n",
      " [ 68.44124603  69.0112915   65.36665344  67.88904572  65.73836517]\n",
      " [ 66.91043854  66.81351471  71.4462738   69.82722473  68.21582794]]\n"
     ]
    }
   ],
   "source": [
    "# TODO 1: Generate a 5*5 matrix filled with 9s. \n",
    "# TODO 2: Generate another 5*5 matrix with normal distribution. Choose any mean and stddev you like.\n",
    "# Hint: Visit https://www.tensorflow.org/api_guides/python/constant_op\n",
    "\n",
    "# YOUR CODE HERE\n",
    "\n",
    "five_ones = tf.ones(shape=[5,5], dtype = tf.float32, name = 'five_ones')\n",
    "nine_matrix = tf.scalar_mul(9,five_ones)\n",
    "\n",
    "norm_matrix = tf.random_normal(shape=[5,5], mean=69, stddev=2.0)\n",
    "\n",
    "\n",
    "with tf.Session() as sess:\n",
    "    print('5x5 matrix with all 9s: \\n', sess.run(nine_matrix))\n",
    "    print('5x5 matrix with N(69,2): \\n', sess.run(norm_matrix))"
   ]
  },
  {
   "cell_type": "code",
   "execution_count": 35,
   "metadata": {},
   "outputs": [
    {
     "name": "stdout",
     "output_type": "stream",
     "text": [
      "[ 4.  5.]\n",
      "[ 5.  6.]\n"
     ]
    }
   ],
   "source": [
    "# 4. Variables\n",
    "# So far, what we've defined are constants, i.e. their values can't be changed. With TensorFlow variables, you can update \n",
    "# values now during training of a network.\n",
    "\n",
    "x = tf.Variable([2,3], dtype=tf.float32) # You need to give an initial value to the variable.\n",
    "\n",
    "# Several ops we can use to change the value of the variable. Note that they all become nodes in the graph.\n",
    "assign = x.assign([4,5])\n",
    "add = x.assign_add([1,1])\n",
    "\n",
    "# To initialize all the variables in the graph, TensorFlow has a global initializer function for us.\n",
    "# You can also use x.initializer to initialize a single variable.\n",
    "# Remember to always intialize a variable before using it. Or you'll run into an error.\n",
    "init = tf.global_variables_initializer()\n",
    "\n",
    "with tf.Session() as sess:\n",
    "    sess.run(init) # Now all varaibles are assigned their initial values.\n",
    "    print(sess.run(assign)) # print(x.eval()) is the same \n",
    "    print(sess.run(add))"
   ]
  },
  {
   "cell_type": "code",
   "execution_count": 67,
   "metadata": {},
   "outputs": [
    {
     "name": "stdout",
     "output_type": "stream",
     "text": [
      "A 3x3 matrix initialized to all zeroes: \n",
      " [[ 0.  0.  0.]\n",
      " [ 0.  0.  0.]\n",
      " [ 0.  0.  0.]]\n",
      "3x3 matrix assigned values a normal distribution with mean 69 and std div 4.2: \n",
      " [[ 64.07608032  76.54361725  70.32093811]\n",
      " [ 70.6685791   65.29219818  72.92668152]\n",
      " [ 70.32150269  72.62763977  70.12454987]]\n"
     ]
    }
   ],
   "source": [
    "# TODO: Create a 3*3 tensor variable, then assign some other values to it.\n",
    "# We need to see the initial values and the new values after the assign op to give you full points.\n",
    "\n",
    "# YOUR CODE HERE\n",
    "\n",
    "# a 3x3 variable 'x' declared here:\n",
    "x = tf.Variable(tf.zeros(shape = [3,3],dtype=tf.float32), dtype=tf.float32)\n",
    "\n",
    "# Assigning x with values from a normal distribution with mean 69 and std div 4.2 here:\n",
    "assign = x.assign(tf.random_normal(shape=[3,3], mean=69, stddev=4.2))\n",
    "\n",
    "init = tf.global_variables_initializer()\n",
    "\n",
    "with tf.Session() as sess:\n",
    "    sess.run(init) # Now all varaibles are assigned their initial values.\n",
    "    print('A 3x3 matrix initialized to all zeroes: \\n', sess.run(x)) # print(x.eval()) is the same \n",
    "    print('3x3 matrix assigned values a normal distribution with mean 69 and std div 4.2: \\n', sess.run(assign))\n",
    "\n",
    "\n",
    "\n"
   ]
  },
  {
   "cell_type": "code",
   "execution_count": null,
   "metadata": {
    "collapsed": true
   },
   "outputs": [],
   "source": [
    "# 5. Placeholders\n",
    "# When you want to feed your data into the network, an intuitive way is to put your data in tf.constant. But that's not clever.\n",
    "# We have placeholders to hold your data. The use is very easy.\n",
    "\n",
    "# Define a placeholder\n",
    "y = tf.placeholder(shape=[5,], dtype=tf.float32) # [5,] or [5] means this is an 1-d array of size 5.\n",
    "z = tf.placeholder(shape=[None, 5], dtype=tf.float32) # Use None in a dimension means any size is acceptable.\n",
    "y_plus = y + 1\n",
    "z_minus = z - 1\n",
    "\n",
    "# Then generate some real arrays to feed into the placeholders\n",
    "feed_y = np.array([1,1,1,1,1], dtype=np.float32) \n",
    "feed_z = np.random.uniform(size=[2,5])\n",
    "\n",
    "# Now use a dictionary to feed the true values into the placeholders.\n",
    "# TensorFlow will detect that the ops we run is linked to some placeholders which need to be fed.\n",
    "with tf.Session() as sess:\n",
    "    print(sess.run([y_plus,z_minus], feed_dict={y: feed_y, z:feed_z}))"
   ]
  },
  {
   "cell_type": "code",
   "execution_count": 70,
   "metadata": {},
   "outputs": [
    {
     "name": "stdout",
     "output_type": "stream",
     "text": [
      "[[ 45.30951691  10.65365982   6.79274654]\n",
      " [ 36.04608154  54.02280807  15.89084339]\n",
      " [ 62.21138763  32.60131454  30.28723145]]\n"
     ]
    }
   ],
   "source": [
    "# TODO: Create a placeholder of shape 3*3, and a random Variable tensor of shape 3*1. Do a multiplication of them. \n",
    "# You need to create a node for each operation. \n",
    "# Do not define an operation when you actually run it, e.g. sess.run(tf.add(a,b)) is the wrong way. Instead, define c=a+b and \n",
    "# then run it. \n",
    "\n",
    "# YOUR CODE HERE\n",
    "\n",
    "#Declaring a 3x3 placeholder y\n",
    "y = tf.placeholder(shape=[3,3], dtype=tf.float32) \n",
    "\n",
    "x = tf.cons\n",
    "\n",
    "#Performing a multiplication on y\n",
    "y_mult = y*69\n",
    "\n",
    "#Creating the random values to be fed into y\n",
    "feed_y = np.random.uniform(size=[3,3])\n",
    "\n",
    "with tf.Session() as sess:\n",
    "    print(sess.run(y_mult, feed_dict={y: feed_y}))\n"
   ]
  },
  {
   "cell_type": "code",
   "execution_count": 72,
   "metadata": {},
   "outputs": [
    {
     "name": "stdout",
     "output_type": "stream",
     "text": [
      "Is the answer correct (compared with numpy result)? True\n"
     ]
    }
   ],
   "source": [
    "# 6. Indexing\n",
    "# In this part, you will learn some indexing methods like selecting a sequence of data from a tensor. For example, \n",
    "# given data X(100x20) and the corresponding label array y(100x1) , now you want to select out the y[i] \n",
    "# element from the i_th row in X.\n",
    "X = tf.placeholder(shape=[None, 20], dtype=tf.float32)\n",
    "y = tf.placeholder(shape=[None,], dtype=tf.int32)\n",
    "\n",
    "#number of samples\n",
    "N = tf.shape(X)[0]\n",
    "indices = tf.to_int64(tf.transpose([tf.range(N),y]))\n",
    "out = tf.gather_nd(X, indices)\n",
    "\n",
    "# Then generate some real arrays to feed into the placeholders\n",
    "feed_X = np.random.rand(100, 20).astype('float32')\n",
    "feed_y = np.random.randint(20, size=100)\n",
    "out_np = feed_X[[range(100),feed_y]]\n",
    "\n",
    "with tf.Session() as sess:\n",
    "    out_tf = sess.run(out, feed_dict={X:feed_X, y:feed_y})\n",
    "\n",
    "print(\"Is the answer correct (compared with numpy result)? {}\".format(np.allclose(out_np, out_tf)))"
   ]
  },
  {
   "cell_type": "code",
   "execution_count": 73,
   "metadata": {},
   "outputs": [
    {
     "name": "stdout",
     "output_type": "stream",
     "text": [
      "float32 result: \n",
      " [[  1.10000002   4.0999999    9.10000038]\n",
      " [ 16.10000038  25.10000038  36.09999847]]\n",
      "float64 result: \n",
      " [[  1.1   4.1   9.1]\n",
      " [ 16.1  25.1  36.1]]\n"
     ]
    }
   ],
   "source": [
    "# 7. Data type impact\n",
    "# In tensorflow, float type of data includes float32 and float64. Remember that in your later implementation, \n",
    "# you should always consider float32 as your first choice for sake of efficiency, even though it will lose precision.\n",
    "# Here we are going to compare the precision difference between these two types.\n",
    "A32 = tf.Variable([[1,2,3], [4,5,6]], dtype=tf.float32)\n",
    "B32 = A32**2 + 0.1\n",
    "A64 = tf.Variable([[1,2,3], [4,5,6]], dtype=tf.float64)\n",
    "B64 = A64**2 + 0.1\n",
    "\n",
    "init_op = tf.global_variables_initializer()\n",
    "with tf.Session() as sess:\n",
    "    sess.run(init_op)\n",
    "    B_tf32 = sess.run(B32)\n",
    "    B_tf64 = sess.run(B64)\n",
    "\n",
    "print('float32 result: \\n {}'.format(B_tf32))\n",
    "print('float64 result: \\n {}'.format(B_tf64))"
   ]
  },
  {
   "cell_type": "markdown",
   "metadata": {},
   "source": [
    "We've introduced basic TensorFlow operations and concepts. Now, we recommend you to visit the TensorFlow tutorial link provided. It will help you a lot, as the operations we introduced is not sufficient for building a neural network yet."
   ]
  },
  {
   "cell_type": "markdown",
   "metadata": {},
   "source": [
    "## Part 4 - TensorFlow Demo\n",
    "Part 4 of this assignemnt is a demo, all you need to do is to run it and see the results. It is meant to give you an impression of using TensorFlow.\n",
    "\n",
    "Please run the code and see the outputs. We don't ask you to fully understand the model. However, it is a good practice that you search [www.tensorflow.org](https://www.tensorflow.org) for the functions used in the code. They can be really helpful when you start programming by yourself."
   ]
  },
  {
   "cell_type": "markdown",
   "metadata": {},
   "source": [
    "### Demo1: Logistic Regression"
   ]
  },
  {
   "cell_type": "code",
   "execution_count": 87,
   "metadata": {},
   "outputs": [
    {
     "name": "stdout",
     "output_type": "stream",
     "text": [
      "Extracting ./tmp/data/train-images-idx3-ubyte.gz\n",
      "Extracting ./tmp/data/train-labels-idx1-ubyte.gz\n",
      "Extracting ./tmp/data/t10k-images-idx3-ubyte.gz\n",
      "Extracting ./tmp/data/t10k-labels-idx1-ubyte.gz\n",
      "Epoch 0 done. Loss: 84865.637374\n",
      "Epoch 1 done. Loss: 38894.309121\n",
      "Epoch 2 done. Loss: 31520.699913\n",
      "Epoch 3 done. Loss: 28161.508199\n",
      "Epoch 4 done. Loss: 26177.088662\n",
      "Epoch 5 done. Loss: 24818.191624\n",
      "Epoch 6 done. Loss: 23809.132102\n",
      "Epoch 7 done. Loss: 23025.760465\n",
      "Epoch 8 done. Loss: 22389.692636\n",
      "Epoch 9 done. Loss: 21857.556695\n",
      "Epoch 10 done. Loss: 21407.427701\n",
      "Epoch 11 done. Loss: 21018.349361\n",
      "Epoch 12 done. Loss: 20675.004514\n",
      "Epoch 13 done. Loss: 20371.318423\n",
      "Epoch 14 done. Loss: 20102.716988\n",
      "Epoch 15 done. Loss: 19859.038088\n",
      "Epoch 16 done. Loss: 19634.392676\n",
      "Epoch 17 done. Loss: 19428.884513\n",
      "Epoch 18 done. Loss: 19241.702478\n",
      "Epoch 19 done. Loss: 19068.691303\n",
      "Epoch 20 done. Loss: 18910.086387\n",
      "Epoch 21 done. Loss: 18759.850750\n",
      "Epoch 22 done. Loss: 18623.089583\n",
      "Epoch 23 done. Loss: 18486.328514\n",
      "Epoch 24 done. Loss: 18364.599779\n",
      "Epoch 25 done. Loss: 18242.829115\n",
      "Epoch 26 done. Loss: 18140.386782\n",
      "Epoch 27 done. Loss: 18040.501751\n",
      "Epoch 28 done. Loss: 17935.937197\n",
      "Epoch 29 done. Loss: 17848.611468\n",
      "Epoch 30 done. Loss: 17760.046223\n",
      "Epoch 31 done. Loss: 17666.377723\n",
      "Epoch 32 done. Loss: 17591.990513\n",
      "Epoch 33 done. Loss: 17514.604263\n",
      "Epoch 34 done. Loss: 17440.910286\n",
      "Epoch 35 done. Loss: 17367.315384\n",
      "Epoch 36 done. Loss: 17297.565972\n",
      "Epoch 37 done. Loss: 17229.651733\n",
      "Epoch 38 done. Loss: 17168.730376\n",
      "Epoch 39 done. Loss: 17108.691580\n",
      "Epoch 40 done. Loss: 17050.606078\n",
      "Epoch 41 done. Loss: 16988.341263\n",
      "Epoch 42 done. Loss: 16939.943261\n",
      "Epoch 43 done. Loss: 16890.207823\n",
      "Epoch 44 done. Loss: 16829.736126\n",
      "Epoch 45 done. Loss: 16781.035557\n",
      "Epoch 46 done. Loss: 16739.719171\n",
      "Epoch 47 done. Loss: 16688.556427\n",
      "Epoch 48 done. Loss: 16645.284676\n",
      "Epoch 49 done. Loss: 16600.080036\n",
      "Accuracy is 91.64999723434448%\n"
     ]
    }
   ],
   "source": [
    "# Demo 1: logistic regression using MNIST dataset\n",
    "\n",
    "# In this demo, we're going to demonstrate a simple multi-class regression model, which is a simple linear classification model.\n",
    "# Reference: https://en.wikipedia.org/wiki/Logistic_regression\n",
    "\n",
    "mnist = input_data.read_data_sets(\"./tmp/data\", one_hot=True) # The data will be stored in ./tmp/data on your machine.\n",
    "num_train = 55000 # Total number of training examples\n",
    "\n",
    "batch_size = 50 # The size of a minibatch\n",
    "epochs = 50 # Train on the entire training set for this much time\n",
    "lr = 0.01 # Learning rate\n",
    "Xte = mnist.test.images # Test data\n",
    "Yte = mnist.test.labels # Test labels\n",
    "\n",
    "# Explicitly set variables in the gpu memory. If you don't have a GPU, comment the 'with tf.device('/gpu\"0')' line,\n",
    "# and remove the following indents.\n",
    "\n",
    "\n",
    "#with tf.device('/gpu:0'):\n",
    "x = tf.placeholder(tf.float32, [None, 784], name='x') # A placeholder to put our input data\n",
    "y = tf.placeholder(tf.float32, [None, 10], name='y') # A placeholder to put our input labels\n",
    "W = tf.Variable(tf.random_uniform([784, 10]), dtype=tf.float32, name='weights') # Model weights (trainable)\n",
    "b = tf.Variable(tf.random_uniform([1, 10]), dtype=tf.float32, name='bias') # Model bias (trainable)\n",
    "pred = tf.matmul(x, W) + b\n",
    "loss = tf.reduce_mean(\n",
    "    tf.nn.softmax_cross_entropy_with_logits(labels=y, logits=pred), name='loss') # Model loss function\n",
    "optimizer = tf.train.GradientDescentOptimizer(lr).minimize(loss) # Use basic gradient descent optimizer\n",
    "test_prediction = tf.equal(tf.argmax(pred, 1), tf.argmax(y, 1)) # Test whether the predictions match real labels\n",
    "accuracy = tf.reduce_mean(tf.cast(test_prediction, tf.float32))\n",
    "\n",
    "\n",
    "\n",
    "\n",
    "# Using minibatch to train the model.\n",
    "num_batch = num_train / batch_size\n",
    "init = tf.global_variables_initializer()\n",
    "# Train the model\n",
    "with tf.Session() as sess:\n",
    "    sess.run(init)\n",
    "    for epoch in range(epochs):\n",
    "        cost_this_epoch = 0\n",
    "        for i in range(int(num_batch)):\n",
    "            xtr, ytr = mnist.train.next_batch(batch_size)\n",
    "            _, l = sess.run([optimizer, loss], feed_dict={x: xtr, y: ytr})\n",
    "            cost_this_epoch += l * batch_size\n",
    "        print('Epoch {} done. Loss: {:5f}'.format(epoch, cost_this_epoch))\n",
    "    accr = sess.run(accuracy, feed_dict={x: Xte, y: Yte})\n",
    "print('Accuracy is {}%'.format(accr * 100))"
   ]
  },
  {
   "cell_type": "markdown",
   "metadata": {},
   "source": [
    "### Demo2: K-means Clustering"
   ]
  },
  {
   "cell_type": "code",
   "execution_count": 1,
   "metadata": {},
   "outputs": [
    {
     "ename": "NameError",
     "evalue": "name 'np' is not defined",
     "output_type": "error",
     "traceback": [
      "\u001b[0;31m---------------------------------------------------------------------------\u001b[0m",
      "\u001b[0;31mNameError\u001b[0m                                 Traceback (most recent call last)",
      "\u001b[0;32m<ipython-input-1-f141955739d1>\u001b[0m in \u001b[0;36m<module>\u001b[0;34m()\u001b[0m\n\u001b[1;32m     13\u001b[0m \u001b[0;34m\u001b[0m\u001b[0m\n\u001b[1;32m     14\u001b[0m \u001b[0;31m# Generate 3 clusters a,b,c, and stack them together as an entire data points.\u001b[0m\u001b[0;34m\u001b[0m\u001b[0;34m\u001b[0m\u001b[0m\n\u001b[0;32m---> 15\u001b[0;31m \u001b[0mnp\u001b[0m\u001b[0;34m.\u001b[0m\u001b[0mrandom\u001b[0m\u001b[0;34m.\u001b[0m\u001b[0mseed\u001b[0m\u001b[0;34m(\u001b[0m\u001b[0;36m1231\u001b[0m\u001b[0;34m)\u001b[0m\u001b[0;34m\u001b[0m\u001b[0m\n\u001b[0m\u001b[1;32m     16\u001b[0m \u001b[0ma\u001b[0m \u001b[0;34m=\u001b[0m \u001b[0mnp\u001b[0m\u001b[0;34m.\u001b[0m\u001b[0mrandom\u001b[0m\u001b[0;34m.\u001b[0m\u001b[0mmultivariate_normal\u001b[0m\u001b[0;34m(\u001b[0m\u001b[0mnp\u001b[0m\u001b[0;34m.\u001b[0m\u001b[0mrandom\u001b[0m\u001b[0;34m.\u001b[0m\u001b[0mrandint\u001b[0m\u001b[0;34m(\u001b[0m\u001b[0;34m-\u001b[0m\u001b[0mscale\u001b[0m\u001b[0;34m,\u001b[0m \u001b[0mscale\u001b[0m\u001b[0;34m,\u001b[0m \u001b[0msize\u001b[0m\u001b[0;34m=\u001b[0m\u001b[0mD\u001b[0m\u001b[0;34m)\u001b[0m\u001b[0;34m,\u001b[0m \u001b[0mnp\u001b[0m\u001b[0;34m.\u001b[0m\u001b[0midentity\u001b[0m\u001b[0;34m(\u001b[0m\u001b[0mD\u001b[0m\u001b[0;34m)\u001b[0m\u001b[0;34m,\u001b[0m \u001b[0msize\u001b[0m\u001b[0;34m=\u001b[0m\u001b[0mN\u001b[0m\u001b[0;34m//\u001b[0m\u001b[0;36m3\u001b[0m\u001b[0;34m)\u001b[0m\u001b[0;34m\u001b[0m\u001b[0m\n\u001b[1;32m     17\u001b[0m \u001b[0mb\u001b[0m \u001b[0;34m=\u001b[0m \u001b[0mnp\u001b[0m\u001b[0;34m.\u001b[0m\u001b[0mrandom\u001b[0m\u001b[0;34m.\u001b[0m\u001b[0mmultivariate_normal\u001b[0m\u001b[0;34m(\u001b[0m\u001b[0mnp\u001b[0m\u001b[0;34m.\u001b[0m\u001b[0mrandom\u001b[0m\u001b[0;34m.\u001b[0m\u001b[0mrandint\u001b[0m\u001b[0;34m(\u001b[0m\u001b[0;34m-\u001b[0m\u001b[0mscale\u001b[0m\u001b[0;34m,\u001b[0m \u001b[0mscale\u001b[0m\u001b[0;34m,\u001b[0m \u001b[0msize\u001b[0m\u001b[0;34m=\u001b[0m\u001b[0mD\u001b[0m\u001b[0;34m)\u001b[0m\u001b[0;34m,\u001b[0m \u001b[0mnp\u001b[0m\u001b[0;34m.\u001b[0m\u001b[0midentity\u001b[0m\u001b[0;34m(\u001b[0m\u001b[0mD\u001b[0m\u001b[0;34m)\u001b[0m\u001b[0;34m,\u001b[0m \u001b[0msize\u001b[0m\u001b[0;34m=\u001b[0m\u001b[0mN\u001b[0m\u001b[0;34m//\u001b[0m\u001b[0;36m3\u001b[0m\u001b[0;34m)\u001b[0m\u001b[0;34m\u001b[0m\u001b[0m\n",
      "\u001b[0;31mNameError\u001b[0m: name 'np' is not defined"
     ]
    }
   ],
   "source": [
    "# Demo 2: K-means clustering with multivariate random Gaussian data\n",
    "\n",
    "# In this demo, we're going to demonstrate a K-means clustering algorithm on a set of 2 dimensional data points.\n",
    "# Source code excerpted from https://gist.github.com/dave-andersen/265e68a5e879b5540ebc\n",
    "# Reference: https://en.wikipedia.org/wiki/K-means_clustering\n",
    "\n",
    "# set up inital parameters\n",
    "N = 30000 # Total number of data points\n",
    "K = 3 # Total number of clusters\n",
    "D = 20 # Number of features for each point, here for later visualization, the default D is 2.\n",
    "scale = 20 # Propotional to the distance between each cluster\n",
    "MAX_ITERS = 1000 # max iterations of the algorithm\n",
    "\n",
    "# Generate 3 clusters a,b,c, and stack them together as an entire data points.\n",
    "np.random.seed(1231)\n",
    "a = np.random.multivariate_normal(np.random.randint(-scale, scale, size=D), np.identity(D), size=N//3) \n",
    "b = np.random.multivariate_normal(np.random.randint(-scale, scale, size=D), np.identity(D), size=N//3)\n",
    "c = np.random.multivariate_normal(np.random.randint(-scale, scale, size=D), np.identity(D), size=N//3)\n",
    "d = np.concatenate([a,b,c], axis=0)"
   ]
  },
  {
   "cell_type": "code",
   "execution_count": 84,
   "metadata": {
    "collapsed": true
   },
   "outputs": [],
   "source": [
    "# This is a basic implementation of K-means clustering\n",
    "def kmeans(data, K=3):\n",
    "    \n",
    "    N, D = data.shape\n",
    "    # clear variables\n",
    "    tf.reset_default_graph()\n",
    "    \n",
    "    # define placeholder for input data as well as Variable for clusters' center and assignment\n",
    "    points = tf.placeholder(tf.float32, [N,D], name='input') # A placeholder to hold our data\n",
    "    cluster_assignments = tf.Variable(tf.zeros([N], dtype=tf.int64)) # A variable to show the cluster assignments for each point\n",
    "    centroids = tf.Variable(tf.random_normal([K,D]))# A variable to show the cluster centers\n",
    "\n",
    "    # distance matrix\n",
    "    # Replicate to N copies of each centroid and K copies of each\n",
    "    # point, then subtract and compute the sum of squared distances.\n",
    "    rep_centroids = tf.reshape(tf.tile(centroids, [N, 1]), [N, K, D])\n",
    "    rep_points = tf.reshape(tf.tile(points, [1, K]), [N, K, D])\n",
    "    sum_squares = tf.reduce_sum(tf.square(rep_points - rep_centroids), \n",
    "                                reduction_indices=2)\n",
    "\n",
    "    # Use argmin to select the lowest-distance point\n",
    "    new_centroids = tf.argmin(sum_squares, 1)\n",
    "    did_assignments_change = tf.reduce_any(tf.not_equal(new_centroids, \n",
    "                                                        cluster_assignments))\n",
    "\n",
    "    # Maximization step: compute the new center of each cluster\n",
    "    def bucket_mean(data, bucket_ids, num_buckets):\n",
    "        total = tf.unsorted_segment_sum(data, bucket_ids, num_buckets)\n",
    "        count = tf.unsorted_segment_sum(tf.ones_like(data), bucket_ids, num_buckets)\n",
    "        count = tf.where(tf.equal(count,tf.zeros_like(count)), tf.ones_like(count), count)\n",
    "        return total / count\n",
    "    means = bucket_mean(points, new_centroids, K)\n",
    "\n",
    "    # If the cluster assignments change, then update the cluster centers. This saves computation.\n",
    "    with tf.control_dependencies([did_assignments_change]):\n",
    "        do_updates = tf.group(\n",
    "            centroids.assign(means),\n",
    "            cluster_assignments.assign(new_centroids))\n",
    "\n",
    "    init = tf.global_variables_initializer()\n",
    "\n",
    "    # Start the session\n",
    "    with tf.Session() as sess:\n",
    "        # initialize all Variables\n",
    "        sess.run(init)\n",
    "        changed = True\n",
    "        iters = 0\n",
    "        while changed and iters < MAX_ITERS:\n",
    "            iters += 1\n",
    "            [changed, _] = sess.run([did_assignments_change, do_updates], feed_dict={points:data})\n",
    "        [centers, assignments] = sess.run([centroids, cluster_assignments], feed_dict={points:data})\n",
    "    # return centers of K clusters and the assignemnt of each point\n",
    "    return iters, centers, assignments"
   ]
  },
  {
   "cell_type": "markdown",
   "metadata": {},
   "source": [
    "Note: Sometimes, Kmeans does not perform well due to a bad init. When this happens, just try more times."
   ]
  },
  {
   "cell_type": "code",
   "execution_count": 85,
   "metadata": {},
   "outputs": [
    {
     "name": "stdout",
     "output_type": "stream",
     "text": [
      "Found in 0.55 seconds\n",
      "Centroids:\n",
      "[[  9.79961693e-01  -1.50072441e+01   1.37927337e-03   1.90003815e+01\n",
      "    1.00431287e+00  -1.00004168e+01  -1.50052500e+01  -9.00448704e+00\n",
      "   -2.99888039e+00  -1.80020599e+01   1.30015993e+01   1.59969873e+01\n",
      "    1.49916973e+01  -7.01008034e+00   1.10170574e+01   8.05582618e-04\n",
      "    3.99042225e+00  -1.49971485e+01  -2.01245546e+00  -4.99981594e+00]\n",
      " [  5.99320745e+00   3.98813677e+00  -1.20064535e+01   6.98465300e+00\n",
      "    9.82912004e-01  -1.80024204e+01  -6.99622726e+00   5.99704409e+00\n",
      "    1.70108147e+01  -7.00152349e+00   7.79622642e-04   1.09876146e+01\n",
      "    1.00605595e+00  -1.29986382e+01   1.60071945e+01   1.40073814e+01\n",
      "   -1.20001421e+01  -3.02914190e+00   1.90082493e+01  -1.49826345e+01]\n",
      " [  1.10115137e+01   8.79940228e-04  -1.59966841e+01   1.79996777e+01\n",
      "   -1.30031185e+01   5.00222206e+00  -2.00647593e+00   1.59973783e+01\n",
      "    1.59917421e+01   2.98799515e+00  -7.00444078e+00  -3.00139189e+00\n",
      "    1.90108814e+01  -1.70032024e+01   1.10183220e+01  -1.80007477e+01\n",
      "    6.00397444e+00   1.20204449e+01   9.94943380e-01   8.99032307e+00]]\n",
      "Cluster assignments: [0 0 0 ..., 2 2 2]\n"
     ]
    },
    {
     "data": {
      "text/plain": [
       "[<matplotlib.lines.Line2D at 0x7fb6a80e7668>]"
      ]
     },
     "execution_count": 85,
     "metadata": {},
     "output_type": "execute_result"
    },
    {
     "data": {
      "image/png": "[encoded data removed]",
      "text/plain": [
       "<matplotlib.figure.Figure at 0x7fb6a80dc898>"
      ]
     },
     "metadata": {},
     "output_type": "display_data"
    }
   ],
   "source": [
    "# Run K-means\n",
    "start = time.time()\n",
    "iters, centers, assignments = kmeans(d, 3)\n",
    "end = time.time()\n",
    "print (\"Found in %.2f seconds\" % (end-start)), iters, \"iterations\"\n",
    "print (\"Centroids:\")\n",
    "print (centers)\n",
    "print (\"Cluster assignments:\", assignments)\n",
    "plt.plot(a[:,0],a[:,1],'.')\n",
    "plt.plot(b[:,0],b[:,1],'x')\n",
    "plt.plot(c[:,0],c[:,1],'+')\n",
    "plt.plot(centers[:,0],centers[:,1],'o')"
   ]
  },
  {
   "cell_type": "markdown",
   "metadata": {},
   "source": [
    "In this part, you will see two different methods of calculating distance matrix in K means. Try to run them and compare difference."
   ]
  },
  {
   "cell_type": "code",
   "execution_count": 86,
   "metadata": {},
   "outputs": [
    {
     "name": "stdout",
     "output_type": "stream",
     "text": [
      "computation time of basic distance calculation: 0.024385452270507812\n",
      "computation time of modified distance calculation: 0.07695817947387695\n"
     ]
    }
   ],
   "source": [
    "# Another vectorized implementation of distance matrix\n",
    "# Compute the sum of squared distances. Here rather than using tile methods to compute distances \n",
    "# between each point to the centroids, we choose a fully vectorized methods, which can help avoid \n",
    "# the out-of-memory(OOM) problem. Try to re-generate a dataset with shape (30000x2000, N=30000 D=2000) \n",
    "# and K remains to be 3. And run the following code to see the difference between these two methods.\n",
    "\n",
    "points = tf.placeholder(tf.float32, [N,D], name='input') # A placeholder to hold our data\n",
    "centroids = tf.Variable(tf.random_normal([K,D]))# A variable to show the cluster centers\n",
    "\n",
    "# Method 1: Tiling\n",
    "rep_centroids = tf.reshape(tf.tile(centroids, [N, 1]), [N, K, D])\n",
    "rep_points = tf.reshape(tf.tile(points, [1, K]), [N, K, D])\n",
    "sum_squares = tf.reduce_sum(tf.square(rep_points - rep_centroids), \n",
    "                            reduction_indices=2)\n",
    "\n",
    "# Method 2: Vectorized method\n",
    "def distance_matrix(a,b):\n",
    "    '''\n",
    "    inputs:\n",
    "    a - N x D\n",
    "    b - K x D\n",
    "    '''\n",
    "    N = tf.shape(a)[0]\n",
    "    K = tf.shape(b)[0]\n",
    "    a2 = tf.transpose(tf.tile([tf.reduce_sum(a**2, axis=1)], [K,1]))\n",
    "    b2 = tf.tile([tf.reduce_sum(b**2, axis=1)], [N,1])\n",
    "    ab = tf.matmul(a,tf.transpose(b))\n",
    "    \n",
    "    return a2+b2-2*ab\n",
    "\n",
    "sum_squares_vec = distance_matrix(points, centroids)\n",
    "\n",
    "init = tf.global_variables_initializer()\n",
    "with tf.Session() as sess:\n",
    "    sess.run(init)\n",
    "    try:\n",
    "        tic = time.time()\n",
    "        sess.run(sum_squares, feed_dict={points:d})\n",
    "        toc = time.time()\n",
    "        print(\"computation time of basic distance calculation: {}\".format(toc-tic))\n",
    "    except Exception as e:\n",
    "        print('*'*100)\n",
    "        print(e)\n",
    "        print('*'*100)\n",
    "\n",
    "with tf.Session() as sess:\n",
    "    sess.run(init)\n",
    "    try:\n",
    "        tic = time.time()\n",
    "        sess.run(sum_squares_vec, feed_dict={points:d})\n",
    "        toc = time.time()\n",
    "        print(\"computation time of modified distance calculation: {}\".format(toc-tic))\n",
    "    except Exception as e:\n",
    "        print('*'*100)\n",
    "        print(e)\n",
    "        print('*'*100)"
   ]
  },
  {
   "cell_type": "markdown",
   "metadata": {
    "collapsed": true
   },
   "source": [
    "#### Application: Clustering & Segmentation\n",
    "\n",
    "Here is an interesting application of K-means clustering algorithm"
   ]
  },
  {
   "cell_type": "code",
   "execution_count": null,
   "metadata": {
    "collapsed": true
   },
   "outputs": [],
   "source": [
    "from scipy.misc import imread\n",
    "\n",
    "## Segmetation\n",
    "img = imread('./pics/avengers.jpg')\n",
    "img_points = np.reshape(img,(img.shape[0]*img.shape[1],-1))\n",
    "_, colors, assignments = kmeans(img_points, 3)"
   ]
  },
  {
   "cell_type": "code",
   "execution_count": 81,
   "metadata": {},
   "outputs": [
    {
     "ename": "NameError",
     "evalue": "name 'colors' is not defined",
     "output_type": "error",
     "traceback": [
      "\u001b[0;31m---------------------------------------------------------------------------\u001b[0m",
      "\u001b[0;31mNameError\u001b[0m                                 Traceback (most recent call last)",
      "\u001b[0;32m<ipython-input-81-c62b855d91d8>\u001b[0m in \u001b[0;36m<module>\u001b[0;34m()\u001b[0m\n\u001b[0;32m----> 1\u001b[0;31m \u001b[0mseg\u001b[0m \u001b[0;34m=\u001b[0m \u001b[0mnp\u001b[0m\u001b[0;34m.\u001b[0m\u001b[0mreshape\u001b[0m\u001b[0;34m(\u001b[0m\u001b[0mcolors\u001b[0m\u001b[0;34m[\u001b[0m\u001b[0massignments\u001b[0m\u001b[0;34m,\u001b[0m\u001b[0;34m:\u001b[0m\u001b[0;34m]\u001b[0m\u001b[0;34m.\u001b[0m\u001b[0mastype\u001b[0m\u001b[0;34m(\u001b[0m\u001b[0;34m'uint8'\u001b[0m\u001b[0;34m)\u001b[0m\u001b[0;34m,\u001b[0m \u001b[0mimg\u001b[0m\u001b[0;34m.\u001b[0m\u001b[0mshape\u001b[0m\u001b[0;34m)\u001b[0m\u001b[0;34m\u001b[0m\u001b[0m\n\u001b[0m\u001b[1;32m      2\u001b[0m \u001b[0;34m\u001b[0m\u001b[0m\n\u001b[1;32m      3\u001b[0m \u001b[0mf\u001b[0m\u001b[0;34m,\u001b[0m \u001b[0maxarr\u001b[0m \u001b[0;34m=\u001b[0m \u001b[0mplt\u001b[0m\u001b[0;34m.\u001b[0m\u001b[0msubplots\u001b[0m\u001b[0;34m(\u001b[0m\u001b[0;36m1\u001b[0m\u001b[0;34m,\u001b[0m\u001b[0;36m2\u001b[0m\u001b[0;34m,\u001b[0m \u001b[0mfigsize\u001b[0m\u001b[0;34m=\u001b[0m\u001b[0;34m(\u001b[0m\u001b[0;36m15\u001b[0m\u001b[0;34m,\u001b[0m\u001b[0;36m30\u001b[0m\u001b[0;34m)\u001b[0m\u001b[0;34m)\u001b[0m\u001b[0;34m\u001b[0m\u001b[0m\n\u001b[1;32m      4\u001b[0m \u001b[0maxarr\u001b[0m\u001b[0;34m[\u001b[0m\u001b[0;36m0\u001b[0m\u001b[0;34m]\u001b[0m\u001b[0;34m.\u001b[0m\u001b[0mimshow\u001b[0m\u001b[0;34m(\u001b[0m\u001b[0mimg\u001b[0m\u001b[0;34m)\u001b[0m\u001b[0;34m\u001b[0m\u001b[0m\n\u001b[1;32m      5\u001b[0m \u001b[0maxarr\u001b[0m\u001b[0;34m[\u001b[0m\u001b[0;36m1\u001b[0m\u001b[0;34m]\u001b[0m\u001b[0;34m.\u001b[0m\u001b[0mimshow\u001b[0m\u001b[0;34m(\u001b[0m\u001b[0mseg\u001b[0m\u001b[0;34m)\u001b[0m\u001b[0;34m\u001b[0m\u001b[0m\n",
      "\u001b[0;31mNameError\u001b[0m: name 'colors' is not defined"
     ]
    }
   ],
   "source": [
    "seg = np.reshape(colors[assignments,:].astype('uint8'), img.shape)\n",
    "\n",
    "f, axarr = plt.subplots(1,2, figsize=(15,30))\n",
    "axarr[0].imshow(img)\n",
    "axarr[1].imshow(seg)"
   ]
  },
  {
   "cell_type": "code",
   "execution_count": 82,
   "metadata": {},
   "outputs": [
    {
     "ename": "NameError",
     "evalue": "name 'D' is not defined",
     "output_type": "error",
     "traceback": [
      "\u001b[0;31m---------------------------------------------------------------------------\u001b[0m",
      "\u001b[0;31mNameError\u001b[0m                                 Traceback (most recent call last)",
      "\u001b[0;32m<ipython-input-82-cf68f0e2ae98>\u001b[0m in \u001b[0;36m<module>\u001b[0;34m()\u001b[0m\n\u001b[0;32m----> 1\u001b[0;31m \u001b[0mpoints\u001b[0m \u001b[0;34m=\u001b[0m \u001b[0mtf\u001b[0m\u001b[0;34m.\u001b[0m\u001b[0mplaceholder\u001b[0m\u001b[0;34m(\u001b[0m\u001b[0mtf\u001b[0m\u001b[0;34m.\u001b[0m\u001b[0mfloat32\u001b[0m\u001b[0;34m,\u001b[0m \u001b[0;34m[\u001b[0m\u001b[0mN\u001b[0m\u001b[0;34m,\u001b[0m\u001b[0mD\u001b[0m\u001b[0;34m]\u001b[0m\u001b[0;34m,\u001b[0m \u001b[0mname\u001b[0m\u001b[0;34m=\u001b[0m\u001b[0;34m'input'\u001b[0m\u001b[0;34m)\u001b[0m \u001b[0;31m# A placeholder to hold our data\u001b[0m\u001b[0;34m\u001b[0m\u001b[0m\n\u001b[0m\u001b[1;32m      2\u001b[0m \u001b[0mcentroids\u001b[0m \u001b[0;34m=\u001b[0m \u001b[0mtf\u001b[0m\u001b[0;34m.\u001b[0m\u001b[0mVariable\u001b[0m\u001b[0;34m(\u001b[0m\u001b[0mtf\u001b[0m\u001b[0;34m.\u001b[0m\u001b[0mrandom_normal\u001b[0m\u001b[0;34m(\u001b[0m\u001b[0;34m[\u001b[0m\u001b[0mK\u001b[0m\u001b[0;34m,\u001b[0m\u001b[0mD\u001b[0m\u001b[0;34m]\u001b[0m\u001b[0;34m)\u001b[0m\u001b[0;34m)\u001b[0m\u001b[0;31m# A variable to show the cluster centers\u001b[0m\u001b[0;34m\u001b[0m\u001b[0m\n",
      "\u001b[0;31mNameError\u001b[0m: name 'D' is not defined"
     ]
    }
   ],
   "source": [
    "points = tf.placeholder(tf.float32, [N,D], name='input') # A placeholder to hold our data\n",
    "centroids = tf.Variable(tf.random_normal([K,D]))# A variable to show the cluster centers\n"
   ]
  },
  {
   "cell_type": "markdown",
   "metadata": {},
   "source": [
    "Now find more pictures as well as different K and create your own segmentation image.\n",
    "\n",
    "Note: If you encounter out-of-memory(OOM) problem, try to modify the kmeans function by methods mentioned before or resize the input image into a smaller one. Hint: Use numpy.resize "
   ]
  }
 ],
 "metadata": {
  "kernelspec": {
   "display_name": "Python 3",
   "language": "python",
   "name": "python3"
  },
  "language_info": {
   "codemirror_mode": {
    "name": "ipython",
    "version": 3
   },
   "file_extension": ".py",
   "mimetype": "text/x-python",
   "name": "python",
   "nbconvert_exporter": "python",
   "pygments_lexer": "ipython3",
   "version": "3.6.1"
  }
 },
 "nbformat": 4,
 "nbformat_minor": 2
}
